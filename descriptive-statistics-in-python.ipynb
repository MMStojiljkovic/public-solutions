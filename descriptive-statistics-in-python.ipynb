{
 "cells": [
  {
   "cell_type": "markdown",
   "metadata": {},
   "source": [
    "# Descriptive Statistics in Python"
   ]
  },
  {
   "cell_type": "markdown",
   "metadata": {},
   "source": [
    "----\n",
    "\n",
    "Author: [**Mirko M. Stojiljković**, Ph.D.](http://mmst.tech/)\n",
    "\n",
    "Version: **1.0**\n",
    "\n",
    "Last updated: **01 May 2019**\n",
    "\n",
    "License: [**MIT**](https://opensource.org/licenses/MIT)\n",
    "\n",
    "---\n",
    "\n",
    "Copyright 2019 Mirko Stojiljković\n",
    "\n",
    "Permission is hereby granted, free of charge, to any person obtaining a copy of this software and associated documentation files (the \"Software\"), to deal in the Software without restriction, including without limitation the rights to use, copy, modify, merge, publish, distribute, sublicense, and/or sell copies of the Software, and to permit persons to whom the Software is furnished to do so, subject to the following conditions:\n",
    "\n",
    "The above copyright notice and this permission notice shall be included in all copies or substantial portions of the Software.\n",
    "\n",
    "THE SOFTWARE IS PROVIDED \"AS IS\", WITHOUT WARRANTY OF ANY KIND, EXPRESS OR IMPLIED, INCLUDING BUT NOT LIMITED TO THE WARRANTIES OF MERCHANTABILITY, FITNESS FOR A PARTICULAR PURPOSE AND NONINFRINGEMENT. IN NO EVENT SHALL THE AUTHORS OR COPYRIGHT HOLDERS BE LIABLE FOR ANY CLAIM, DAMAGES OR OTHER LIABILITY, WHETHER IN AN ACTION OF CONTRACT, TORT OR OTHERWISE, ARISING FROM, OUT OF OR IN CONNECTION WITH THE SOFTWARE OR THE USE OR OTHER DEALINGS IN THE SOFTWARE.\n",
    "\n",
    "----"
   ]
  },
  {
   "cell_type": "markdown",
   "metadata": {},
   "source": [
    "**Descriptive statistics** is a part of statistics related to the description of data.\n",
    "\n",
    "Python has very powerful libraries we can use for descriptive statistics:\n",
    "\n",
    "* [`statistics`](https://docs.python.org/3/library/statistics.html) is a built-in Python library mostly convenient for smaller datasets\n",
    "* [`numpy`](https://docs.scipy.org/doc/numpy/reference/routines.statistics.html) and [`scipy`](https://docs.scipy.org/doc/scipy/reference/stats.html) are fundamental and general-purpose Python numerical libraries that provide comprehensive statistics routines suitable for working with large amounts of data\n",
    "* [`pandas`](https://pandas.pydata.org/) is a library that implements most functionality of `numpy` and allows a convenient way to represent data as tables or frames\n",
    "* [`statsmodels`](https://www.statsmodels.org/stable/index.html) is a library for advanced statistics\n",
    "\n",
    "The **first part** of this notebook shows **how to determine these three types of statistical measures with Python**:\n",
    "\n",
    "* Measures of central tendency\n",
    "* Measures of variability\n",
    "* Measures of joint variability\n",
    "\n",
    "It uses the built-in library `statiscics`, as well as `numpy` and `scipy.stats`:"
   ]
  },
  {
   "cell_type": "code",
   "execution_count": 1,
   "metadata": {},
   "outputs": [],
   "source": [
    "import statistics\n",
    "\n",
    "import numpy as np\n",
    "import scipy.stats as sp"
   ]
  },
  {
   "cell_type": "markdown",
   "metadata": {},
   "source": [
    "The **second part** illustrates some ways to **visualize data** with [`matplotlib`](https://matplotlib.org/):"
   ]
  },
  {
   "cell_type": "code",
   "execution_count": 2,
   "metadata": {},
   "outputs": [],
   "source": [
    "import matplotlib.pyplot as plt\n",
    "%matplotlib inline"
   ]
  },
  {
   "cell_type": "markdown",
   "metadata": {},
   "source": [
    "For more information on `matplotlib`, please check the [official documentation](https://matplotlib.org/contents.html) and [Anatomy of Matplotlib](https://github.com/matplotlib/AnatomyOfMatplotlib)."
   ]
  },
  {
   "cell_type": "markdown",
   "metadata": {},
   "source": [
    "### Population and Sample"
   ]
  },
  {
   "cell_type": "markdown",
   "metadata": {},
   "source": [
    "It's important to make distinction between the population and sample. The **population** is a full collection of elements (items) of interest. The **sample** is a subset of population that hopefully preserves its important statistical features. It's usually convenient to analyze samples in order to make some conclusions related to the corresponding populations. "
   ]
  },
  {
   "cell_type": "markdown",
   "metadata": {},
   "source": [
    "### Measures of Central Tendency"
   ]
  },
  {
   "cell_type": "markdown",
   "metadata": {},
   "source": [
    "Some important **measures of central tendency** are:\n",
    "\n",
    "* mean\n",
    "* harmonic mean\n",
    "* geometric mean\n",
    "* weighted average\n",
    "* median\n",
    "* mode"
   ]
  },
  {
   "cell_type": "markdown",
   "metadata": {},
   "source": [
    "##### Mean"
   ]
  },
  {
   "cell_type": "markdown",
   "metadata": {},
   "source": [
    "The **sample mean**, $\\bar{x}$, is the arithmetic average of all the elements in a dataset:\n",
    "\n",
    "$$\\bar{x} = \\frac{1}{n}\\sum^n_{i=1} x_i$$\n",
    "\n",
    "where $n$ is the number of elements in the set and $x_i$, $i=1, 2, \\dots, n$, are all individual elements.\n",
    "\n",
    "We can calculate the mean with the function `mean()` from `statistics`, as well as with `mean()` or `nanmean()` from `numpy`:"
   ]
  },
  {
   "cell_type": "code",
   "execution_count": 3,
   "metadata": {},
   "outputs": [
    {
     "data": {
      "text/plain": [
       "4.608333333333333"
      ]
     },
     "execution_count": 3,
     "metadata": {},
     "output_type": "execute_result"
    }
   ],
   "source": [
    "x = [2, 1, 3, 1.2, 8.45, 12]\n",
    "x_mean = statistics.mean(x)\n",
    "\n",
    "x_mean"
   ]
  },
  {
   "cell_type": "code",
   "execution_count": 4,
   "metadata": {},
   "outputs": [
    {
     "data": {
      "text/plain": [
       "4.608333333333333"
      ]
     },
     "execution_count": 4,
     "metadata": {},
     "output_type": "execute_result"
    }
   ],
   "source": [
    "x_mean = np.mean(x)\n",
    "\n",
    "x_mean"
   ]
  },
  {
   "cell_type": "markdown",
   "metadata": {},
   "source": [
    "If we deal with multidimensional arrays in `numpy`, we can specify the axis along which we want the mean to be calculated by `numpy.mean()`.\n",
    "\n",
    "We can also use `.mean()` as a method of an instance of the class `numpy.ndarray`:"
   ]
  },
  {
   "cell_type": "code",
   "execution_count": 5,
   "metadata": {},
   "outputs": [
    {
     "data": {
      "text/plain": [
       "4.608333333333333"
      ]
     },
     "execution_count": 5,
     "metadata": {},
     "output_type": "execute_result"
    }
   ],
   "source": [
    "x = np.array([2, 1, 3, 1.2, 8.45, 12])\n",
    "x_mean = x.mean()\n",
    "\n",
    "x_mean"
   ]
  },
  {
   "cell_type": "markdown",
   "metadata": {},
   "source": [
    "If there is `nan` in the dataset, both `mean()` from `statistics` and `mean()` from `numpy` return `nan`. It's often convenient to use `nanmean()` from `numpy` since it ignores `nan`s:"
   ]
  },
  {
   "cell_type": "code",
   "execution_count": 6,
   "metadata": {},
   "outputs": [
    {
     "data": {
      "text/plain": [
       "(nan, 4.608333333333333)"
      ]
     },
     "execution_count": 6,
     "metadata": {},
     "output_type": "execute_result"
    }
   ],
   "source": [
    "x = np.array([2, 1, 3, 1.2, 8.45, 12, np.nan])\n",
    "x_mean, x_mean_ = np.mean(x), np.nanmean(x)\n",
    "\n",
    "x_mean, x_mean_"
   ]
  },
  {
   "cell_type": "markdown",
   "metadata": {},
   "source": [
    "##### Harmonic Mean"
   ]
  },
  {
   "cell_type": "markdown",
   "metadata": {},
   "source": [
    "The **sample harmonic mean**, $\\bar{x}_\\mathrm{H}$, is another kind of average value calculated with the formula:\n",
    "\n",
    "$$\\bar{x}_\\mathrm{H} = \\frac{n}{\\sum^n_{i=1} \\frac{1}{x_i}}$$\n",
    "\n",
    "We can calculate the harmonic mean with the function `harmonic_mean()` from `statistics`, as well as with `hmean()` from `scipy.stats`:"
   ]
  },
  {
   "cell_type": "code",
   "execution_count": 7,
   "metadata": {},
   "outputs": [
    {
     "data": {
      "text/plain": [
       "(2.0917998968540483, 0)"
      ]
     },
     "execution_count": 7,
     "metadata": {},
     "output_type": "execute_result"
    }
   ],
   "source": [
    "x, y = [2, 1, 3, 1.2, 8.45, 12], [0, 1, 2]\n",
    "x_hmean, y_hmean = statistics.harmonic_mean(x), statistics.harmonic_mean(y)\n",
    "\n",
    "x_hmean, y_hmean"
   ]
  },
  {
   "cell_type": "code",
   "execution_count": 8,
   "metadata": {},
   "outputs": [
    {
     "data": {
      "text/plain": [
       "2.0917998968540483"
      ]
     },
     "execution_count": 8,
     "metadata": {},
     "output_type": "execute_result"
    }
   ],
   "source": [
    "x_hmean = sp.hmean(x)\n",
    "\n",
    "x_hmean"
   ]
  },
  {
   "cell_type": "code",
   "execution_count": 9,
   "metadata": {},
   "outputs": [
    {
     "ename": "ValueError",
     "evalue": "Harmonic mean only defined if all elements greater than zero",
     "output_type": "error",
     "traceback": [
      "\u001b[0;31m---------------------------------------------------------------------------\u001b[0m",
      "\u001b[0;31mValueError\u001b[0m                                Traceback (most recent call last)",
      "\u001b[0;32m<ipython-input-9-b1caacc66882>\u001b[0m in \u001b[0;36m<module>\u001b[0;34m\u001b[0m\n\u001b[0;32m----> 1\u001b[0;31m \u001b[0my_hmean\u001b[0m \u001b[0;34m=\u001b[0m \u001b[0msp\u001b[0m\u001b[0;34m.\u001b[0m\u001b[0mhmean\u001b[0m\u001b[0;34m(\u001b[0m\u001b[0my\u001b[0m\u001b[0;34m)\u001b[0m\u001b[0;34m\u001b[0m\u001b[0;34m\u001b[0m\u001b[0m\n\u001b[0m\u001b[1;32m      2\u001b[0m \u001b[0;34m\u001b[0m\u001b[0m\n\u001b[1;32m      3\u001b[0m \u001b[0my_hmean\u001b[0m\u001b[0;34m\u001b[0m\u001b[0;34m\u001b[0m\u001b[0m\n",
      "\u001b[0;32m~/anaconda3/envs/ms-sci/lib/python3.7/site-packages/scipy/stats/stats.py\u001b[0m in \u001b[0;36mhmean\u001b[0;34m(a, axis, dtype)\u001b[0m\n\u001b[1;32m    380\u001b[0m         \u001b[0;32mreturn\u001b[0m \u001b[0msize\u001b[0m \u001b[0;34m/\u001b[0m \u001b[0mnp\u001b[0m\u001b[0;34m.\u001b[0m\u001b[0msum\u001b[0m\u001b[0;34m(\u001b[0m\u001b[0;36m1.0\u001b[0m \u001b[0;34m/\u001b[0m \u001b[0ma\u001b[0m\u001b[0;34m,\u001b[0m \u001b[0maxis\u001b[0m\u001b[0;34m=\u001b[0m\u001b[0maxis\u001b[0m\u001b[0;34m,\u001b[0m \u001b[0mdtype\u001b[0m\u001b[0;34m=\u001b[0m\u001b[0mdtype\u001b[0m\u001b[0;34m)\u001b[0m\u001b[0;34m\u001b[0m\u001b[0;34m\u001b[0m\u001b[0m\n\u001b[1;32m    381\u001b[0m     \u001b[0;32melse\u001b[0m\u001b[0;34m:\u001b[0m\u001b[0;34m\u001b[0m\u001b[0;34m\u001b[0m\u001b[0m\n\u001b[0;32m--> 382\u001b[0;31m         raise ValueError(\"Harmonic mean only defined if all elements greater \"\n\u001b[0m\u001b[1;32m    383\u001b[0m                          \"than zero\")\n\u001b[1;32m    384\u001b[0m \u001b[0;34m\u001b[0m\u001b[0m\n",
      "\u001b[0;31mValueError\u001b[0m: Harmonic mean only defined if all elements greater than zero"
     ]
    }
   ],
   "source": [
    "y_hmean = sp.hmean(y)\n",
    "\n",
    "y_hmean"
   ]
  },
  {
   "cell_type": "markdown",
   "metadata": {},
   "source": [
    "Obviously, if there is `0` in a dataset, `statistics.harmonic_mean()` returns `0`, while `scipy.stats.hmean()` raises `ValueError`.\n",
    "\n",
    "As with the ordinary mean, if we deal with multidimensional arrays, we can specify the axis along which we want the harmonic mean to be calculated."
   ]
  },
  {
   "cell_type": "markdown",
   "metadata": {},
   "source": [
    "##### Geometric Mean"
   ]
  },
  {
   "cell_type": "markdown",
   "metadata": {},
   "source": [
    "The **sample geometric mean**, $\\bar{x}_\\mathrm{G}$, is yet another kind of mean calculated as:\n",
    "\n",
    "$$\\bar{x}_\\mathrm{G} = \\left(\\prod^n_{i=1} x_i\\right)^\\frac{1}{n}$$\n",
    "\n",
    "We can calculate the geometric mean with the function `gmean()` from `scipy.stats`:"
   ]
  },
  {
   "cell_type": "code",
   "execution_count": 10,
   "metadata": {},
   "outputs": [
    {
     "data": {
      "text/plain": [
       "3.0007402839069046"
      ]
     },
     "execution_count": 10,
     "metadata": {},
     "output_type": "execute_result"
    }
   ],
   "source": [
    "x = [2, 1, 3, 1.2, 8.45, 12]\n",
    "x_gmean = sp.gmean(x)\n",
    "\n",
    "x_gmean"
   ]
  },
  {
   "cell_type": "code",
   "execution_count": 11,
   "metadata": {},
   "outputs": [
    {
     "name": "stderr",
     "output_type": "stream",
     "text": [
      "/home/ms/anaconda3/envs/ms-sci/lib/python3.7/site-packages/scipy/stats/stats.py:308: RuntimeWarning: divide by zero encountered in log\n",
      "  log_a = np.log(np.array(a, dtype=dtype))\n"
     ]
    },
    {
     "data": {
      "text/plain": [
       "0.0"
      ]
     },
     "execution_count": 11,
     "metadata": {},
     "output_type": "execute_result"
    }
   ],
   "source": [
    "y = [0, 1, 2]\n",
    "y_gmean = sp.gmean(y)\n",
    "\n",
    "y_gmean"
   ]
  },
  {
   "cell_type": "markdown",
   "metadata": {},
   "source": [
    "If there is `0` in a dataset, `scipy.stats.gmean()` returns zero and might give `RuntimeWarning` warning.\n",
    "\n",
    "Again, if we deal with multidimensional arrays, we can specify the axis along which we want the geometric mean to be calculated."
   ]
  },
  {
   "cell_type": "markdown",
   "metadata": {},
   "source": [
    "##### Weighted Average"
   ]
  },
  {
   "cell_type": "markdown",
   "metadata": {},
   "source": [
    "The **weighted average** is used when we have the frequencies of the occurence of the particular items from a dataset. For example, we might know that ${20~\\%}$ of values in our dataset are `2`s, ${30~\\%}$ are `8`s and ${50~\\%}$ are `0`s. We can find the mean, that is the simple average the same way as before. The alternative is using the function `average()` from `numpy`:"
   ]
  },
  {
   "cell_type": "code",
   "execution_count": 12,
   "metadata": {},
   "outputs": [
    {
     "data": {
      "text/plain": [
       "2.8"
      ]
     },
     "execution_count": 12,
     "metadata": {},
     "output_type": "execute_result"
    }
   ],
   "source": [
    "x_items, w = np.array([2, 8, 0]), np.array([0.2, 0.3, 0.5])\n",
    "x_mean = np.average(x_items, weights=w)\n",
    "\n",
    "x_mean"
   ]
  },
  {
   "cell_type": "markdown",
   "metadata": {},
   "source": [
    "##### Median"
   ]
  },
  {
   "cell_type": "markdown",
   "metadata": {},
   "source": [
    "The **sample median** is the middle value when the elements of a dataset are sorted in increasing or decreasing order. If we sort all elements from the dataset and if the number of elements $n$ is _odd_, the median is the value at the middle position $x_{(n+1)/2}$. If $n$ is _even_, the median is the average of two values in the middle, that is $0.5\\left(x_{n/2} + x_{n/2+1}\\right)$.\n",
    "\n",
    "We can obtain the median with the function `median()` from `statistics`, as well as with `median()` and `nanmedian()` from `numpy`:"
   ]
  },
  {
   "cell_type": "code",
   "execution_count": 13,
   "metadata": {},
   "outputs": [
    {
     "data": {
      "text/plain": [
       "([0, 1.2, 2, 3, 8.45, 12], 2.5, [1, 2, 8], 2)"
      ]
     },
     "execution_count": 13,
     "metadata": {},
     "output_type": "execute_result"
    }
   ],
   "source": [
    "x, y = [2, 0, 3, 1.2, 8.45, 12], [1, 8, 2]\n",
    "x_median, y_median = statistics.median(x), statistics.median(y)\n",
    "\n",
    "sorted(x), x_median, sorted(y), y_median"
   ]
  },
  {
   "cell_type": "code",
   "execution_count": 14,
   "metadata": {},
   "outputs": [
    {
     "data": {
      "text/plain": [
       "(2.5, 2.0)"
      ]
     },
     "execution_count": 14,
     "metadata": {},
     "output_type": "execute_result"
    }
   ],
   "source": [
    "x_median, y_median = np.median(x), np.median(y)\n",
    "\n",
    "x_median, y_median"
   ]
  },
  {
   "cell_type": "markdown",
   "metadata": {},
   "source": [
    "Again, for the case of multidimensional arrays, we can specify the axis along which we want the median to be calculated.\n",
    "\n",
    "If there is `nan` in the dataset and we want to ignore it, we should use `nanmedian()` from `numpy`. `numpy.median()` returns `nan` but also gives `RuntimeWarning`:"
   ]
  },
  {
   "cell_type": "code",
   "execution_count": 15,
   "metadata": {},
   "outputs": [
    {
     "name": "stderr",
     "output_type": "stream",
     "text": [
      "/home/ms/anaconda3/envs/ms-sci/lib/python3.7/site-packages/numpy/lib/function_base.py:3405: RuntimeWarning: Invalid value encountered in median\n",
      "  r = func(a, **kwargs)\n"
     ]
    },
    {
     "data": {
      "text/plain": [
       "(nan, nan)"
      ]
     },
     "execution_count": 15,
     "metadata": {},
     "output_type": "execute_result"
    }
   ],
   "source": [
    "x, y = np.array([2, 0, 3, 1.2, np.nan, 8.45, 12]), np.array([1, np.nan, 8, 2])\n",
    "x_median, y_median = np.median(x), np.median(y)\n",
    "\n",
    "x_median, y_median"
   ]
  },
  {
   "cell_type": "code",
   "execution_count": 16,
   "metadata": {},
   "outputs": [
    {
     "data": {
      "text/plain": [
       "(2.5, 2.0)"
      ]
     },
     "execution_count": 16,
     "metadata": {},
     "output_type": "execute_result"
    }
   ],
   "source": [
    "x_median_, y_median_ = np.nanmedian(x), np.nanmedian(y)\n",
    "\n",
    "x_median_, y_median_"
   ]
  },
  {
   "cell_type": "markdown",
   "metadata": {},
   "source": [
    "The functions `median_low()` and `median_high()` from `statistics` return actual values from the dataset in the case of an even number of elements:"
   ]
  },
  {
   "cell_type": "code",
   "execution_count": 17,
   "metadata": {},
   "outputs": [
    {
     "data": {
      "text/plain": [
       "([0, 1.2, 2, 3, 8.45, 12], 2, 3)"
      ]
     },
     "execution_count": 17,
     "metadata": {},
     "output_type": "execute_result"
    }
   ],
   "source": [
    "x = [2, 0, 3, 1.2, 8.45, 12]\n",
    "x_low, x_high = statistics.median_low(x), statistics.median_high(x)\n",
    "\n",
    "sorted(x), x_low, x_high"
   ]
  },
  {
   "cell_type": "markdown",
   "metadata": {},
   "source": [
    "##### Mode"
   ]
  },
  {
   "cell_type": "markdown",
   "metadata": {},
   "source": [
    "The **sample mode** is the value in the dataset that occurs most frequently. A dataset can have more than one modal value.\n",
    "\n",
    "We can obtain the mode with the function `mode()` from `statistics`, as well as with `mode()` from `scipy.stats`:"
   ]
  },
  {
   "cell_type": "code",
   "execution_count": 18,
   "metadata": {},
   "outputs": [
    {
     "data": {
      "text/plain": [
       "1.2"
      ]
     },
     "execution_count": 18,
     "metadata": {},
     "output_type": "execute_result"
    }
   ],
   "source": [
    "x = [1.2, 0, 2, 1.2, 8, 4]\n",
    "x_mode = statistics.mode(x)\n",
    "\n",
    "x_mode"
   ]
  },
  {
   "cell_type": "markdown",
   "metadata": {},
   "source": [
    "However, `statistics.mode()` doesn't support multimodal values, but raises `StatisticsError`:"
   ]
  },
  {
   "cell_type": "code",
   "execution_count": 19,
   "metadata": {},
   "outputs": [
    {
     "ename": "StatisticsError",
     "evalue": "no unique mode; found 2 equally common values",
     "output_type": "error",
     "traceback": [
      "\u001b[0;31m---------------------------------------------------------------------------\u001b[0m",
      "\u001b[0;31mStatisticsError\u001b[0m                           Traceback (most recent call last)",
      "\u001b[0;32m<ipython-input-19-56b6959c4b92>\u001b[0m in \u001b[0;36m<module>\u001b[0;34m\u001b[0m\n\u001b[1;32m      1\u001b[0m \u001b[0my\u001b[0m \u001b[0;34m=\u001b[0m \u001b[0;34m[\u001b[0m\u001b[0;36m1\u001b[0m\u001b[0;34m,\u001b[0m \u001b[0;36m1\u001b[0m\u001b[0;34m,\u001b[0m \u001b[0;36m2\u001b[0m\u001b[0;34m,\u001b[0m \u001b[0;36m3\u001b[0m\u001b[0;34m,\u001b[0m \u001b[0;36m2\u001b[0m\u001b[0;34m,\u001b[0m \u001b[0;36m4\u001b[0m\u001b[0;34m]\u001b[0m\u001b[0;34m\u001b[0m\u001b[0;34m\u001b[0m\u001b[0m\n\u001b[0;32m----> 2\u001b[0;31m \u001b[0my_mode\u001b[0m \u001b[0;34m=\u001b[0m \u001b[0mstatistics\u001b[0m\u001b[0;34m.\u001b[0m\u001b[0mmode\u001b[0m\u001b[0;34m(\u001b[0m\u001b[0my\u001b[0m\u001b[0;34m)\u001b[0m\u001b[0;34m\u001b[0m\u001b[0;34m\u001b[0m\u001b[0m\n\u001b[0m\u001b[1;32m      3\u001b[0m \u001b[0;34m\u001b[0m\u001b[0m\n\u001b[1;32m      4\u001b[0m \u001b[0my_mode\u001b[0m\u001b[0;34m\u001b[0m\u001b[0;34m\u001b[0m\u001b[0m\n",
      "\u001b[0;32m~/anaconda3/envs/ms-sci/lib/python3.7/statistics.py\u001b[0m in \u001b[0;36mmode\u001b[0;34m(data)\u001b[0m\n\u001b[1;32m    504\u001b[0m     \u001b[0;32melif\u001b[0m \u001b[0mtable\u001b[0m\u001b[0;34m:\u001b[0m\u001b[0;34m\u001b[0m\u001b[0;34m\u001b[0m\u001b[0m\n\u001b[1;32m    505\u001b[0m         raise StatisticsError(\n\u001b[0;32m--> 506\u001b[0;31m                 \u001b[0;34m'no unique mode; found %d equally common values'\u001b[0m \u001b[0;34m%\u001b[0m \u001b[0mlen\u001b[0m\u001b[0;34m(\u001b[0m\u001b[0mtable\u001b[0m\u001b[0;34m)\u001b[0m\u001b[0;34m\u001b[0m\u001b[0;34m\u001b[0m\u001b[0m\n\u001b[0m\u001b[1;32m    507\u001b[0m                 )\n\u001b[1;32m    508\u001b[0m     \u001b[0;32melse\u001b[0m\u001b[0;34m:\u001b[0m\u001b[0;34m\u001b[0m\u001b[0;34m\u001b[0m\u001b[0m\n",
      "\u001b[0;31mStatisticsError\u001b[0m: no unique mode; found 2 equally common values"
     ]
    }
   ],
   "source": [
    "y = [1, 1, 2, 3, 2, 4]\n",
    "y_mode = statistics.mode(y)\n",
    "\n",
    "y_mode"
   ]
  },
  {
   "cell_type": "markdown",
   "metadata": {},
   "source": [
    "Fortunately, `scipy.stats.mode()` is more flexible here:"
   ]
  },
  {
   "cell_type": "code",
   "execution_count": 20,
   "metadata": {},
   "outputs": [
    {
     "data": {
      "text/plain": [
       "(ModeResult(mode=array([1.2]), count=array([2])),\n",
       " ModeResult(mode=array([1]), count=array([2])))"
      ]
     },
     "execution_count": 20,
     "metadata": {},
     "output_type": "execute_result"
    }
   ],
   "source": [
    "x, y = np.array([1.2, 0, 2, 1.2, 8, 4]), np.array([1, 1, 2, 3, 2, 4])\n",
    "x_mode, y_mode = sp.mode(x), sp.mode(y)\n",
    "\n",
    "x_mode, y_mode"
   ]
  },
  {
   "cell_type": "code",
   "execution_count": 21,
   "metadata": {},
   "outputs": [
    {
     "data": {
      "text/plain": [
       "(array([1.2]), array([2]), array([1]), array([2]))"
      ]
     },
     "execution_count": 21,
     "metadata": {},
     "output_type": "execute_result"
    }
   ],
   "source": [
    "x_mode.mode, x_mode.count, y_mode.mode, y_mode.count"
   ]
  },
  {
   "cell_type": "markdown",
   "metadata": {},
   "source": [
    "It returns the modal value and the number of times it occurs. If there are multiple modal values, only the smallest is returned. For the case of multidimensional arrays, we can specify the axis along which we want the mode to be calculated. If there are `nan`s in the dataset, we can specify whether you want to ignore it, return `nan` or raise an exception."
   ]
  },
  {
   "cell_type": "markdown",
   "metadata": {},
   "source": [
    "### Measures of Variability"
   ]
  },
  {
   "cell_type": "markdown",
   "metadata": {},
   "source": [
    "Some important **measures of variability** are:\n",
    "\n",
    "* Variance\n",
    "* Standard deviation\n",
    "* Percentiles"
   ]
  },
  {
   "cell_type": "markdown",
   "metadata": {},
   "source": [
    "##### Sample Variance"
   ]
  },
  {
   "cell_type": "markdown",
   "metadata": {},
   "source": [
    "The **sample variance**, $s^2$, shows the spread of the data values and can be calculated with the formula:\n",
    "\n",
    "$$s^2 = \\frac{1}{n - 1}{\\sum^n_{i=1} \\left(x_i - \\bar{x}\\right)^2}$$\n",
    "\n",
    "We can calculate the sample variance with the function `variance()` from `statistics`, as well as with `var` or `nanvar` from `numpy`:"
   ]
  },
  {
   "cell_type": "code",
   "execution_count": 22,
   "metadata": {},
   "outputs": [
    {
     "data": {
      "text/plain": [
       "20.684416666666667"
      ]
     },
     "execution_count": 22,
     "metadata": {},
     "output_type": "execute_result"
    }
   ],
   "source": [
    "x = [2, 1, 3, 1.2, 8.45, 12]\n",
    "x_var = statistics.variance(x)\n",
    "\n",
    "x_var"
   ]
  },
  {
   "cell_type": "code",
   "execution_count": 23,
   "metadata": {},
   "outputs": [
    {
     "data": {
      "text/plain": [
       "20.684416666666664"
      ]
     },
     "execution_count": 23,
     "metadata": {},
     "output_type": "execute_result"
    }
   ],
   "source": [
    "x_var = np.var(x, ddof=1)\n",
    "\n",
    "x_var"
   ]
  },
  {
   "cell_type": "markdown",
   "metadata": {},
   "source": [
    "or similarly:"
   ]
  },
  {
   "cell_type": "code",
   "execution_count": 24,
   "metadata": {},
   "outputs": [
    {
     "data": {
      "text/plain": [
       "20.684416666666664"
      ]
     },
     "execution_count": 24,
     "metadata": {},
     "output_type": "execute_result"
    }
   ],
   "source": [
    "x = np.array([2, 1, 3, 1.2, 8.45, 12])\n",
    "x_var = x.var(ddof=1)\n",
    "\n",
    "x_var"
   ]
  },
  {
   "cell_type": "markdown",
   "metadata": {},
   "source": [
    "When using `numpy.var` or `numpy.nanvar`, we should specify the delta degrees of freedom, that is `ddof=1` because there is $n-1$ in the formula above.\n",
    "\n",
    "When working with multidimensional arrays, we can provide the axis to find the variance along.\n",
    "\n",
    "As with the sample mean, when there is `nan` in the dataset, both `variance()` from `statistics` and `var()` from `numpy` return `nan`. It's often convenient to use `nanvar()` from `numpy` since it ignores `nan`s:"
   ]
  },
  {
   "cell_type": "code",
   "execution_count": 25,
   "metadata": {},
   "outputs": [
    {
     "data": {
      "text/plain": [
       "(nan, 20.684416666666664)"
      ]
     },
     "execution_count": 25,
     "metadata": {},
     "output_type": "execute_result"
    }
   ],
   "source": [
    "x = np.array([2, 1, 3, 1.2, 8.45, 12, np.nan])\n",
    "x_var, x_var_ = np.var(x, ddof=1), np.nanvar(x, ddof=1)\n",
    "\n",
    "x_var, x_var_"
   ]
  },
  {
   "cell_type": "markdown",
   "metadata": {},
   "source": [
    "The **population variance** is calculated the similar way as the sample variance, but using $n$ instead of $n-1$ in the formula above, where $n$ is the total number of elements in the entire population. It can be calculated using the function `pvariance()` from `statistics`, as well as `var()` or `nanvar()` from `numpy` with `ddof=0` (that might be omitted since it's the default behavior):"
   ]
  },
  {
   "cell_type": "code",
   "execution_count": 26,
   "metadata": {},
   "outputs": [
    {
     "data": {
      "text/plain": [
       "17.23701388888889"
      ]
     },
     "execution_count": 26,
     "metadata": {},
     "output_type": "execute_result"
    }
   ],
   "source": [
    "x = [2, 1, 3, 1.2, 8.45, 12]\n",
    "x_var = statistics.pvariance(x)\n",
    "\n",
    "x_var"
   ]
  },
  {
   "cell_type": "code",
   "execution_count": 27,
   "metadata": {},
   "outputs": [
    {
     "data": {
      "text/plain": [
       "17.237013888888885"
      ]
     },
     "execution_count": 27,
     "metadata": {},
     "output_type": "execute_result"
    }
   ],
   "source": [
    "x_var = np.var(x, ddof=0)\n",
    "\n",
    "x_var"
   ]
  },
  {
   "cell_type": "code",
   "execution_count": 28,
   "metadata": {},
   "outputs": [
    {
     "data": {
      "text/plain": [
       "17.237013888888885"
      ]
     },
     "execution_count": 28,
     "metadata": {},
     "output_type": "execute_result"
    }
   ],
   "source": [
    "x = np.array([2, 1, 3, 1.2, 8.45, 12])\n",
    "x_var = x.var()\n",
    "\n",
    "x_var"
   ]
  },
  {
   "cell_type": "code",
   "execution_count": 29,
   "metadata": {},
   "outputs": [
    {
     "data": {
      "text/plain": [
       "(nan, 17.237013888888885)"
      ]
     },
     "execution_count": 29,
     "metadata": {},
     "output_type": "execute_result"
    }
   ],
   "source": [
    "x = np.array([2, 1, 3, 1.2, 8.45, 12, np.nan])\n",
    "x_var, x_var_ = np.var(x), np.nanvar(x)\n",
    "\n",
    "x_var, x_var_"
   ]
  },
  {
   "cell_type": "markdown",
   "metadata": {},
   "source": [
    "##### Standard Deviation"
   ]
  },
  {
   "cell_type": "markdown",
   "metadata": {},
   "source": [
    "The **sample standard deviation**, $s$, is the squared root of the sample variance.\n",
    "\n",
    "We can calculate the sample standard deviation with the function `stdev()` from `statistics`, as well as with `std()` or `nanstd()` from `numpy` with `ddof=1`:"
   ]
  },
  {
   "cell_type": "code",
   "execution_count": 30,
   "metadata": {},
   "outputs": [
    {
     "data": {
      "text/plain": [
       "4.548012386380084"
      ]
     },
     "execution_count": 30,
     "metadata": {},
     "output_type": "execute_result"
    }
   ],
   "source": [
    "x = [2, 1, 3, 1.2, 8.45, 12]\n",
    "x_std = statistics.stdev(x)\n",
    "\n",
    "x_std"
   ]
  },
  {
   "cell_type": "code",
   "execution_count": 31,
   "metadata": {},
   "outputs": [
    {
     "data": {
      "text/plain": [
       "4.548012386380083"
      ]
     },
     "execution_count": 31,
     "metadata": {},
     "output_type": "execute_result"
    }
   ],
   "source": [
    "x_std = np.std(x, ddof=1)\n",
    "\n",
    "x_std"
   ]
  },
  {
   "cell_type": "code",
   "execution_count": 32,
   "metadata": {},
   "outputs": [
    {
     "data": {
      "text/plain": [
       "4.548012386380083"
      ]
     },
     "execution_count": 32,
     "metadata": {},
     "output_type": "execute_result"
    }
   ],
   "source": [
    "x = np.array([2, 1, 3, 1.2, 8.45, 12])\n",
    "x_std = x.std(ddof=1)\n",
    "\n",
    "x_std"
   ]
  },
  {
   "cell_type": "markdown",
   "metadata": {},
   "source": [
    "If there are `nan`s in the dataset of interest, `numpy.nanstd()` might be convenient since it ignores them:"
   ]
  },
  {
   "cell_type": "code",
   "execution_count": 33,
   "metadata": {},
   "outputs": [
    {
     "data": {
      "text/plain": [
       "(nan, 4.548012386380083)"
      ]
     },
     "execution_count": 33,
     "metadata": {},
     "output_type": "execute_result"
    }
   ],
   "source": [
    "x = np.array([2, 1, 3, 1.2, 8.45, 12, np.nan])\n",
    "x_std, x_std_ = np.std(x, ddof=1), np.nanstd(x, ddof=1)\n",
    "\n",
    "x_std, x_std_"
   ]
  },
  {
   "cell_type": "markdown",
   "metadata": {},
   "source": [
    "As with the variance, we can specify the axis for `numpy.std()` and `numpy.nanstd()`."
   ]
  },
  {
   "cell_type": "markdown",
   "metadata": {},
   "source": [
    "The **population standard deviation** is the square root of the population variance. It can be calculated with the function `pstdev()` from `statistics`, as well as with `std()` or `nanstd()` from `numpy` with `ddof=0` (that again might be omitted as the default value):"
   ]
  },
  {
   "cell_type": "code",
   "execution_count": 34,
   "metadata": {},
   "outputs": [
    {
     "data": {
      "text/plain": [
       "4.151748293055456"
      ]
     },
     "execution_count": 34,
     "metadata": {},
     "output_type": "execute_result"
    }
   ],
   "source": [
    "x = [2, 1, 3, 1.2, 8.45, 12]\n",
    "x_std = statistics.pstdev(x)\n",
    "\n",
    "x_std"
   ]
  },
  {
   "cell_type": "code",
   "execution_count": 35,
   "metadata": {},
   "outputs": [
    {
     "data": {
      "text/plain": [
       "4.151748293055455"
      ]
     },
     "execution_count": 35,
     "metadata": {},
     "output_type": "execute_result"
    }
   ],
   "source": [
    "x_std = np.std(x, ddof=0)\n",
    "\n",
    "x_std"
   ]
  },
  {
   "cell_type": "code",
   "execution_count": 36,
   "metadata": {},
   "outputs": [
    {
     "data": {
      "text/plain": [
       "4.151748293055455"
      ]
     },
     "execution_count": 36,
     "metadata": {},
     "output_type": "execute_result"
    }
   ],
   "source": [
    "x = np.array([2, 1, 3, 1.2, 8.45, 12])\n",
    "x_std = x.std()\n",
    "\n",
    "x_std"
   ]
  },
  {
   "cell_type": "code",
   "execution_count": 37,
   "metadata": {},
   "outputs": [
    {
     "data": {
      "text/plain": [
       "(nan, 4.151748293055455)"
      ]
     },
     "execution_count": 37,
     "metadata": {},
     "output_type": "execute_result"
    }
   ],
   "source": [
    "x = np.array([2, 1, 3, 1.2, 8.45, 12, np.nan])\n",
    "x_std, x_std_ = np.std(x), np.nanstd(x)\n",
    "\n",
    "x_std, x_std_"
   ]
  },
  {
   "cell_type": "markdown",
   "metadata": {},
   "source": [
    "##### Percentile"
   ]
  },
  {
   "cell_type": "markdown",
   "metadata": {},
   "source": [
    "The **sample $p$ percentile** is the value such that $p~\\%$ of the elements in the dataset have the values less than or equal to it and $\\left(100-p\\right)~\\%$ are greater than or equal to it. If there are two elements that satisfy this condition, the sample $p$ percentile is their mean. When $p=25$, $p=50$ or $p=75$, we're talking about **quartiles** since they divide sets into four parts. $p=50$ corresponds to the **median** as well.\n",
    "\n",
    "We can calculate percentiles with the functions `percentile()` and `quantile()` from `numpy`. Their main difference is that the first takes the percentiles in the range $\\text{0–100}$ (both inclusive), while the later needs them in the range $\\text{0–1}$ (also inclusive):"
   ]
  },
  {
   "cell_type": "code",
   "execution_count": 38,
   "metadata": {},
   "outputs": [
    {
     "data": {
      "text/plain": [
       "(array([ 4., 16., 64.]), array([ 4., 16., 64.]))"
      ]
     },
     "execution_count": 38,
     "metadata": {},
     "output_type": "execute_result"
    }
   ],
   "source": [
    "x = np.array([1, 2, 4, 8, 16, 32, 64, 128, 256])\n",
    "q, q_ = np.percentile(x, [25, 50, 75]), np.quantile(x, [0.25, 0.5, 0.75])\n",
    "\n",
    "q, q_"
   ]
  },
  {
   "cell_type": "code",
   "execution_count": 39,
   "metadata": {},
   "outputs": [
    {
     "data": {
      "text/plain": [
       "(2.5, 2.5)"
      ]
     },
     "execution_count": 39,
     "metadata": {},
     "output_type": "execute_result"
    }
   ],
   "source": [
    "x = np.array([2, 0, 3, 1.2, 8.45, 12])\n",
    "x_median, x_median_ = np.percentile(x, 50), np.quantile(x, 0.5)\n",
    "\n",
    "x_median, x_median_"
   ]
  },
  {
   "cell_type": "markdown",
   "metadata": {},
   "source": [
    "There are also corresponding functions `numpy.nanpercentile()` and `numpy.nanquantile()` that ignore `nan`s in the dataset."
   ]
  },
  {
   "cell_type": "markdown",
   "metadata": {},
   "source": [
    "### Measures of Joint Variability "
   ]
  },
  {
   "cell_type": "markdown",
   "metadata": {},
   "source": [
    "Some important measures of the joint variability of two datasets are:\n",
    "\n",
    "* covariance\n",
    "* correlation coefficient"
   ]
  },
  {
   "cell_type": "markdown",
   "metadata": {},
   "source": [
    "##### Covariance"
   ]
  },
  {
   "cell_type": "markdown",
   "metadata": {},
   "source": [
    "The **sample covariance** is a measure of the strength and direction of the relationship between two samples. The stronger this relationship is, the higher is the absolute value of the covariance. If the relationship is weak, the covariance is close to zero. If larger values from one set mostly correspond to larger values from the other and vice versa, the covariance will have a positive value. Contrary, when higher values from one set correspond to lower values from the other, the covariance is negative.\n",
    "\n",
    "Given two sample datasets, $X$ and $Y$, with $n$ elements each, where $\\bar{x}$ and $\\bar{y}$, are the means, while $x_i$ and $y_i$, $i=1, 2, \\dots, n$, are all their elements respectively, the sample covariance between $X$ and $Y$, $s_{XY}$, is:\n",
    "\n",
    "$$s_{XY} = \\frac{1}{n - 1}{\\sum^n_{i=1} \\left(x_i - \\bar{x}\\right)\\left(y_i - \\bar{y}\\right)}$$\n",
    "\n",
    "We can obtain the **covariance matrix** with the function `cov()` from `numpy`:"
   ]
  },
  {
   "cell_type": "code",
   "execution_count": 40,
   "metadata": {},
   "outputs": [
    {
     "data": {
      "text/plain": [
       "array([[ 2.5,  7. ],\n",
       "       [ 7. , 20.3]])"
      ]
     },
     "execution_count": 40,
     "metadata": {},
     "output_type": "execute_result"
    }
   ],
   "source": [
    "x, y = np.arange(5), np.array([1, 2, 5, 8, 12])\n",
    "xy_cov = np.cov(x, y)\n",
    "\n",
    "xy_cov"
   ]
  },
  {
   "cell_type": "markdown",
   "metadata": {
    "variables": {
     "xy_cov[0, 0]": "2.5",
     "xy_cov[1, 1]": "20.3"
    }
   },
   "source": [
    "The values `{{xy_cov[0, 0]}}` and `{{xy_cov[1, 1]}}` on the main diagonal are the sample variances of `x` and `y` respectively:"
   ]
  },
  {
   "cell_type": "code",
   "execution_count": 41,
   "metadata": {},
   "outputs": [
    {
     "data": {
      "text/plain": [
       "(2.5, 20.3)"
      ]
     },
     "execution_count": 41,
     "metadata": {},
     "output_type": "execute_result"
    }
   ],
   "source": [
    "x.var(ddof=1), y.var(ddof=1)"
   ]
  },
  {
   "cell_type": "markdown",
   "metadata": {
    "variables": {
     "xy_cov[1, 0]": "7.0"
    }
   },
   "source": [
    "The value `{{xy_cov[1, 0]}}` is the sample covariance between `x` and `y`."
   ]
  },
  {
   "cell_type": "markdown",
   "metadata": {},
   "source": [
    "We can obtain the **population covariance** by replacing $n-1$ with $n$ in the formula above, where $n$ is the size of both populations. The function `numpy.cov()` allows us to calculate the population covariance by specifying the arguments `ddof=0` or `bias=True`."
   ]
  },
  {
   "cell_type": "markdown",
   "metadata": {},
   "source": [
    "##### Correlation Coefficient"
   ]
  },
  {
   "cell_type": "markdown",
   "metadata": {},
   "source": [
    "The **correlation coefficient**, $r$, is a normalized version of the covariance. It can be calculated as:\n",
    "\n",
    "$$r = \\frac{s_{XY}}{s_X s_Y}$$\n",
    "\n",
    "where $s_X$ and $s_Y$ are the standard deviations of $X$ and $Y$ respectively. $r$ can be between $-1$ (denoting the perfect negative linear relationship) and $1$ (representing the prefect positive linear relationship). The value $r=0$ corresponds to the case of no relationship.\n",
    "\n",
    "We can calculate the correlation coefficient with the function `corrcoef()` from `numpy`:"
   ]
  },
  {
   "cell_type": "code",
   "execution_count": 42,
   "metadata": {},
   "outputs": [
    {
     "data": {
      "text/plain": [
       "array([[1.        , 0.98260737],\n",
       "       [0.98260737, 1.        ]])"
      ]
     },
     "execution_count": 42,
     "metadata": {},
     "output_type": "execute_result"
    }
   ],
   "source": [
    "x, y = np.arange(5), np.array([1, 2, 5, 8, 12])\n",
    "r = np.corrcoef(x, y)\n",
    "\n",
    "r"
   ]
  },
  {
   "cell_type": "markdown",
   "metadata": {
    "variables": {
     "np.round(r[0, 1], decimals=2)": "0.98"
    }
   },
   "source": [
    "The values `1` on the main diagonal of the resulting matrix denote the correlation coefficient between `x` and `x`, as well as between `y` and `y`. The value `{{np.round(r[0, 1], decimals=2)}}` is the correlation coefficient between `x` and `y`."
   ]
  },
  {
   "cell_type": "markdown",
   "metadata": {},
   "source": [
    "### Data Visualization"
   ]
  },
  {
   "cell_type": "markdown",
   "metadata": {},
   "source": [
    "Data visualization is very important in statistics and machine learning. In many cases, it offers a convenient way to represent data.\n",
    "\n",
    "This notebook shows several simple examples how to create some important types of charts with `matplotlib`:\n",
    "\n",
    "* Simple $x$-$y$ plot\n",
    "* Pie chart\n",
    "* Histogram\n",
    "* Bar chart\n",
    "* Box plot\n",
    "* Visual representation of covariance and correlation matrices\n",
    "\n",
    "We might specify more properties for each of these charts, but it's beyond the scope of this notebook.\n",
    "\n",
    "We'll need some random data, so let's first create a pseudo-random number generator:"
   ]
  },
  {
   "cell_type": "code",
   "execution_count": 43,
   "metadata": {},
   "outputs": [],
   "source": [
    "rng = np.random.RandomState(seed=0)"
   ]
  },
  {
   "cell_type": "markdown",
   "metadata": {},
   "source": [
    "##### Simple $x$-$y$ Plot"
   ]
  },
  {
   "cell_type": "markdown",
   "metadata": {},
   "source": [
    "We can create a simple **$x$-$y$ plot** with the function `plot()` from `matplotlib.pyplot`:"
   ]
  },
  {
   "cell_type": "code",
   "execution_count": 44,
   "metadata": {},
   "outputs": [
    {
     "data": {
      "image/png": "[encoded data removed]",
      "text/plain": [
       "<Figure size 432x288 with 1 Axes>"
      ]
     },
     "metadata": {
      "needs_background": "light"
     },
     "output_type": "display_data"
    }
   ],
   "source": [
    "x, y = np.arange(1, 11), rng.randint(20, size=(10))\n",
    "\n",
    "fig, ax = plt.subplots()\n",
    "ax.plot(x, y, linewidth=0, marker='o')\n",
    "ax.set_xlabel(r'$x$')\n",
    "ax.set_ylabel(r'$y$')\n",
    "ax.set_xticks(x)\n",
    "ax.set_yticks(np.arange(0, 21, 2))\n",
    "plt.show()"
   ]
  },
  {
   "cell_type": "markdown",
   "metadata": {},
   "source": [
    "##### Pie Chart"
   ]
  },
  {
   "cell_type": "markdown",
   "metadata": {},
   "source": [
    "A **pie chart** a is nice way to show a percentage related to each value in a dataset. We can obtain it with the function `pie`:"
   ]
  },
  {
   "cell_type": "code",
   "execution_count": 45,
   "metadata": {},
   "outputs": [
    {
     "data": {
      "image/png": "[encoded data removed]",
      "text/plain": [
       "<Figure size 432x288 with 1 Axes>"
      ]
     },
     "metadata": {},
     "output_type": "display_data"
    }
   ],
   "source": [
    "labels, sizes = ('$\\mathbf{X}$', '$\\mathbf{Y}$', '$\\mathbf{Z}$'), (2, 3.5, 4.5)\n",
    "explode = (0.2, 0, 0)\n",
    "\n",
    "fig, ax = plt.subplots()\n",
    "ax.pie(sizes, labels=labels, explode=explode, shadow=True, startangle=90,\n",
    "       autopct='%1.2f %%',)\n",
    "plt.show()"
   ]
  },
  {
   "cell_type": "markdown",
   "metadata": {},
   "source": [
    "##### Histogram"
   ]
  },
  {
   "cell_type": "markdown",
   "metadata": {},
   "source": [
    "A **histogram** divides the range of values into intervals (bins) and shows the number of values or the frequency for each interval. We can create it with the `hist` function. An important parameter is `cumulative` that specifies whether the histogram shows regular (left) or cumulative data (right):"
   ]
  },
  {
   "cell_type": "code",
   "execution_count": 46,
   "metadata": {},
   "outputs": [
    {
     "data": {
      "image/png": "[encoded data removed]",
      "text/plain": [
       "<Figure size 720x288 with 2 Axes>"
      ]
     },
     "metadata": {
      "needs_background": "light"
     },
     "output_type": "display_data"
    }
   ],
   "source": [
    "x, bins = rng.randint(10, size=100), np.arange(11)\n",
    "\n",
    "is_cumulative = (False, True)\n",
    "y_labels = (r'$y$', r'$y_\\mathrm{CUM}$')\n",
    "y_ticks = (41, 101)\n",
    "\n",
    "fig, axes = plt.subplots(nrows=1, ncols=2, figsize=plt.figaspect(0.4))\n",
    "for i, item in enumerate(axes):\n",
    "    item.hist(x, bins, cumulative=is_cumulative[i])\n",
    "    item.set_xlabel(r'$x$')\n",
    "    item.set_ylabel(y_labels[i])\n",
    "    item.set_xticks(bins)\n",
    "    item.set_yticks(np.arange(0, y_ticks[i], 10))\n",
    "plt.tight_layout()\n",
    "plt.show()"
   ]
  },
  {
   "cell_type": "markdown",
   "metadata": {},
   "source": [
    "##### Bar Chart"
   ]
  },
  {
   "cell_type": "markdown",
   "metadata": {},
   "source": [
    "Unlike a histogram, **bar chart** shows the relations between two datasets, as well as the estimated errors. We can get it using the functions `bar()` (for vertical bars) or `barh()` (for horizontal bars): "
   ]
  },
  {
   "cell_type": "code",
   "execution_count": 47,
   "metadata": {},
   "outputs": [
    {
     "data": {
      "image/png": "[encoded data removed]",
      "text/plain": [
       "<Figure size 432x288 with 1 Axes>"
      ]
     },
     "metadata": {
      "needs_background": "light"
     },
     "output_type": "display_data"
    }
   ],
   "source": [
    "x, y, y_err = np.arange(1, 11), rng.randint(20, size=(10)), rng.randn(10)\n",
    "\n",
    "fig, ax = plt.subplots()\n",
    "ax.bar(x, height=y, width=0.8, yerr=y_err, bottom=0, align='center')\n",
    "ax.set_xlabel(r'$x$')\n",
    "ax.set_ylabel(r'$y$')\n",
    "ax.set_xticks(x)\n",
    "ax.set_yticks(np.arange(0, 21, 2))\n",
    "plt.show()"
   ]
  },
  {
   "cell_type": "markdown",
   "metadata": {},
   "source": [
    "##### Box Plot"
   ]
  },
  {
   "cell_type": "markdown",
   "metadata": {},
   "source": [
    "A **boxplot** shows data divided into four quartiles, as well as the outliers, mean and median. We can make it with the function `boxplot()`, where the parameter `vert` specifies whether it's horizontal or vertical:"
   ]
  },
  {
   "cell_type": "code",
   "execution_count": 48,
   "metadata": {},
   "outputs": [
    {
     "data": {
      "image/png": "[encoded data removed]",
      "text/plain": [
       "<Figure size 432x288 with 1 Axes>"
      ]
     },
     "metadata": {
      "needs_background": "light"
     },
     "output_type": "display_data"
    }
   ],
   "source": [
    "x, y, z = rng.randn(1000), rng.randn(100), rng.randn(10)\n",
    "\n",
    "fig, ax = plt.subplots()\n",
    "ax.boxplot((x, y, z), vert=False, meanline=True, showmeans=True,\n",
    "           labels=('x', 'y', 'z'))\n",
    "plt.show()"
   ]
  },
  {
   "cell_type": "markdown",
   "metadata": {},
   "source": [
    "##### Covariance and Correlation Matrices"
   ]
  },
  {
   "cell_type": "markdown",
   "metadata": {},
   "source": [
    "We can use `matplotlib.pyplot.matshow()` to represent a matrix visually. This functionality can be conveniently applied to the covariance and correlation matrices."
   ]
  },
  {
   "cell_type": "code",
   "execution_count": 49,
   "metadata": {},
   "outputs": [
    {
     "data": {
      "image/png": "[encoded data removed]",
      "text/plain": [
       "<Figure size 432x288 with 1 Axes>"
      ]
     },
     "metadata": {
      "needs_background": "light"
     },
     "output_type": "display_data"
    }
   ],
   "source": [
    "x, y = np.arange(5), np.array([1, 2, 5, 8, 12])\n",
    "\n",
    "fig, ax = plt.subplots()\n",
    "ax.matshow(np.cov(x, y))\n",
    "plt.show()"
   ]
  },
  {
   "cell_type": "code",
   "execution_count": 50,
   "metadata": {},
   "outputs": [
    {
     "data": {
      "image/png": "[encoded data removed]",
      "text/plain": [
       "<Figure size 432x288 with 1 Axes>"
      ]
     },
     "metadata": {
      "needs_background": "light"
     },
     "output_type": "display_data"
    }
   ],
   "source": [
    "fig, ax = plt.subplots()\n",
    "ax.matshow(np.corrcoef(x, y))\n",
    "plt.show()"
   ]
  },
  {
   "cell_type": "markdown",
   "metadata": {},
   "source": [
    "### Conclusion"
   ]
  },
  {
   "cell_type": "markdown",
   "metadata": {},
   "source": [
    "This notebook shows how to use Python, `numpy`, and `scipy` for **descriptive statistics**. Both `numpy` and `scipy` contain many statistical (and other) routines not mentioned here. They are certainly worth further exploration.\n",
    "\n",
    "This notebook also shows hot to use `matplotlib` to **visualize data**. It just scratches the surface of what's possible. There are many types of charts and parameters that can be used to customize the look of them. There are also other data visualization Python libraries like [`seaborn`](https://seaborn.pydata.org/), [`bokeh`](https://bokeh.pydata.org/en/latest/), and others. They are also worth exploring."
   ]
  },
  {
   "cell_type": "markdown",
   "metadata": {},
   "source": [
    "----\n",
    "\n",
    "Author: [**Mirko M. Stojiljković**, Ph.D.](http://mmst.tech/) [@MMStojiljkovic](https://twitter.com/MMStojiljkovic)"
   ]
  }
 ],
 "metadata": {
  "kernelspec": {
   "display_name": "Python 3 (ms-sci)",
   "language": "python",
   "name": "ms-sci"
  },
  "language_info": {
   "codemirror_mode": {
    "name": "ipython",
    "version": 3
   },
   "file_extension": ".py",
   "mimetype": "text/x-python",
   "name": "python",
   "nbconvert_exporter": "python",
   "pygments_lexer": "ipython3",
   "version": "3.7.3"
  },
  "varInspector": {
   "cols": {
    "lenName": 16,
    "lenType": 16,
    "lenVar": 40
   },
   "kernels_config": {
    "python": {
     "delete_cmd_postfix": "",
     "delete_cmd_prefix": "del ",
     "library": "var_list.py",
     "varRefreshCmd": "print(var_dic_list())"
    },
    "r": {
     "delete_cmd_postfix": ") ",
     "delete_cmd_prefix": "rm(",
     "library": "var_list.r",
     "varRefreshCmd": "cat(var_dic_list()) "
    }
   },
   "types_to_exclude": [
    "module",
    "function",
    "builtin_function_or_method",
    "instance",
    "_Feature"
   ],
   "window_display": false
  }
 },
 "nbformat": 4,
 "nbformat_minor": 2
}
