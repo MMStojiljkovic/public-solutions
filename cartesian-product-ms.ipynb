{
 "cells": [
  {
   "cell_type": "markdown",
   "metadata": {},
   "source": [
    "# Cartesian Product with Python Libraries"
   ]
  },
  {
   "cell_type": "markdown",
   "metadata": {},
   "source": [
    "----\n",
    "\n",
    "Author: [**Mirko M. Stojiljković**, Ph.D.](http://mmst.tech)\n",
    "\n",
    "Version: **1.0**\n",
    "\n",
    "Last updated: **04 April 2020**\n",
    "\n",
    "License: [**MIT**](https://opensource.org/licenses/MIT)\n",
    "\n",
    "----\n",
    "\n",
    "Copyright 2020 Mirko Stojiljković\n",
    "\n",
    "Permission is hereby granted, free of charge, to any person obtaining a copy of this software and associated documentation files (the \"Software\"), to deal in the Software without restriction, including without limitation the rights to use, copy, modify, merge, publish, distribute, sublicense, and/or sell copies of the Software, and to permit persons to whom the Software is furnished to do so, subject to the following conditions:\n",
    "\n",
    "The above copyright notice and this permission notice shall be included in all copies or substantial portions of the Software.\n",
    "\n",
    "THE SOFTWARE IS PROVIDED \"AS IS\", WITHOUT WARRANTY OF ANY KIND, EXPRESS OR IMPLIED, INCLUDING BUT NOT LIMITED TO THE WARRANTIES OF MERCHANTABILITY, FITNESS FOR A PARTICULAR PURPOSE AND NONINFRINGEMENT. IN NO EVENT SHALL THE AUTHORS OR COPYRIGHT HOLDERS BE LIABLE FOR ANY CLAIM, DAMAGES OR OTHER LIABILITY, WHETHER IN AN ACTION OF CONTRACT, TORT OR OTHERWISE, ARISING FROM, OUT OF OR IN CONNECTION WITH THE SOFTWARE OR THE USE OR OTHER DEALINGS IN THE SOFTWARE.\n",
    "\n",
    "----"
   ]
  },
  {
   "cell_type": "markdown",
   "metadata": {},
   "source": [
    "## Cartesian Product"
   ]
  },
  {
   "cell_type": "markdown",
   "metadata": {},
   "source": [
    "The [**Cartesian product**](https://en.wikipedia.org/wiki/Cartesian_product) of $n$ sets $X_1$, $X_2$, $\\ldots$, $X_n$ is the set of all possible ordered tuples ($x_1, x_2, \\ldots, x_n$), where $x_1$, $x_2$, $\\ldots$, $x_n$ are the elements such that $x_1 \\in X_1$, $x_2 \\in X_2$, $\\ldots$, $x_n \\in X_n$.\n",
    "\n",
    "For example, if we have three sets:\n",
    "\n",
    "$$\n",
    "X = \\{ 0, 1 \\} \\\\\n",
    "Y = \\{ a, b, c \\} \\\\\n",
    "Z = \\{ t, f \\}\n",
    "$$\n",
    "\n",
    "their Cartesian product is:\n",
    "\n",
    "$$\n",
    "X \\times Y \\times Z =\n",
    "  \\{\n",
    "     (0, a, t), (0, a, f), (0, b, t), (0, b, f), (0, c, t), (0, c, f),\n",
    "     (1, a, t), (1, a, f), (1, b, t), (1, b, f), (1, c, t), (1, c, f)\n",
    "  \\}\n",
    "$$\n",
    "\n",
    "Python offers several ways to get the Cartesian product given the sets (or tuples or lists or other sequences) of input values."
   ]
  },
  {
   "cell_type": "markdown",
   "metadata": {},
   "source": [
    "## Cartesian Product with itertools"
   ]
  },
  {
   "cell_type": "markdown",
   "metadata": {},
   "source": [
    "The built-in Python library [itertools](https://docs.python.org/3.8/library/itertools.html) has the iterator [`product`](https://docs.python.org/3.8/library/itertools.html#itertools.product) that you can use to calculate the Cartesian product.\n",
    "\n",
    "Let's solve the problem above with `product`."
   ]
  },
  {
   "cell_type": "code",
   "execution_count": 22,
   "metadata": {},
   "outputs": [],
   "source": [
    "from itertools import product\n",
    "\n",
    "x = {0, 1}\n",
    "y = ('a', 'b', 'c')\n",
    "z = [True, False]\n",
    "\n",
    "prod = product(x, y, z)"
   ]
  },
  {
   "cell_type": "code",
   "execution_count": 23,
   "metadata": {},
   "outputs": [
    {
     "data": {
      "text/plain": [
       "<itertools.product at 0x7f6f065959c0>"
      ]
     },
     "execution_count": 23,
     "metadata": {},
     "output_type": "execute_result"
    }
   ],
   "source": [
    "prod"
   ]
  },
  {
   "cell_type": "markdown",
   "metadata": {},
   "source": [
    "The inputs can be sets, tuples, lists, or other Python sequences. Even [`range`](https://docs.python.org/3/library/functions.html#func-range) or string. For example, we would get the same result with `x = range(2)` and `y = 'abc'`.\n",
    "\n",
    "By applying `product` you get the object that is an iterable and iterator:"
   ]
  },
  {
   "cell_type": "code",
   "execution_count": 24,
   "metadata": {},
   "outputs": [
    {
     "data": {
      "text/plain": [
       "(True, True)"
      ]
     },
     "execution_count": 24,
     "metadata": {},
     "output_type": "execute_result"
    }
   ],
   "source": [
    "hasattr(prod, '__iter__'), hasattr(prod, '__next__'),"
   ]
  },
  {
   "cell_type": "markdown",
   "metadata": {},
   "source": [
    "This means that you can use it in a `for` loop or get a set or tuple or list from it:"
   ]
  },
  {
   "cell_type": "code",
   "execution_count": 25,
   "metadata": {},
   "outputs": [
    {
     "name": "stdout",
     "output_type": "stream",
     "text": [
      "(0, 'a', True)\n",
      "(0, 'a', False)\n",
      "(0, 'b', True)\n",
      "(0, 'b', False)\n",
      "(0, 'c', True)\n",
      "(0, 'c', False)\n",
      "(1, 'a', True)\n",
      "(1, 'a', False)\n",
      "(1, 'b', True)\n",
      "(1, 'b', False)\n",
      "(1, 'c', True)\n",
      "(1, 'c', False)\n"
     ]
    }
   ],
   "source": [
    "for item in product(x, y, z):\n",
    "    print(item)"
   ]
  },
  {
   "cell_type": "code",
   "execution_count": 8,
   "metadata": {},
   "outputs": [
    {
     "data": {
      "text/plain": [
       "{(0, 'a', False),\n",
       " (0, 'a', True),\n",
       " (0, 'b', False),\n",
       " (0, 'b', True),\n",
       " (0, 'c', False),\n",
       " (0, 'c', True),\n",
       " (1, 'a', False),\n",
       " (1, 'a', True),\n",
       " (1, 'b', False),\n",
       " (1, 'b', True),\n",
       " (1, 'c', False),\n",
       " (1, 'c', True)}"
      ]
     },
     "execution_count": 8,
     "metadata": {},
     "output_type": "execute_result"
    }
   ],
   "source": [
    "set(product(x, y, z))"
   ]
  },
  {
   "cell_type": "code",
   "execution_count": 9,
   "metadata": {},
   "outputs": [
    {
     "data": {
      "text/plain": [
       "((0, 'a', True),\n",
       " (0, 'a', False),\n",
       " (0, 'b', True),\n",
       " (0, 'b', False),\n",
       " (0, 'c', True),\n",
       " (0, 'c', False),\n",
       " (1, 'a', True),\n",
       " (1, 'a', False),\n",
       " (1, 'b', True),\n",
       " (1, 'b', False),\n",
       " (1, 'c', True),\n",
       " (1, 'c', False))"
      ]
     },
     "execution_count": 9,
     "metadata": {},
     "output_type": "execute_result"
    }
   ],
   "source": [
    "tuple(product(x, y, z))"
   ]
  },
  {
   "cell_type": "code",
   "execution_count": 10,
   "metadata": {},
   "outputs": [
    {
     "data": {
      "text/plain": [
       "[(0, 'a', True),\n",
       " (0, 'a', False),\n",
       " (0, 'b', True),\n",
       " (0, 'b', False),\n",
       " (0, 'c', True),\n",
       " (0, 'c', False),\n",
       " (1, 'a', True),\n",
       " (1, 'a', False),\n",
       " (1, 'b', True),\n",
       " (1, 'b', False),\n",
       " (1, 'c', True),\n",
       " (1, 'c', False)]"
      ]
     },
     "execution_count": 10,
     "metadata": {},
     "output_type": "execute_result"
    }
   ],
   "source": [
    "list(product(x, y, z))"
   ]
  },
  {
   "cell_type": "markdown",
   "metadata": {},
   "source": [
    "We now have the set, tuple, and list that hold the Cartesian product of `x`, `y`, and `z`."
   ]
  },
  {
   "cell_type": "markdown",
   "metadata": {},
   "source": [
    "## Cartesian Product with NumPy (Part 1 of 2)"
   ]
  },
  {
   "cell_type": "markdown",
   "metadata": {},
   "source": [
    "You can get the Cartesian product with NumPy by combining several functions:"
   ]
  },
  {
   "cell_type": "code",
   "execution_count": 26,
   "metadata": {},
   "outputs": [
    {
     "data": {
      "text/plain": [
       "array([['0', 'a', 'True'],\n",
       "       ['0', 'a', 'False'],\n",
       "       ['0', 'b', 'True'],\n",
       "       ['0', 'b', 'False'],\n",
       "       ['0', 'c', 'True'],\n",
       "       ['0', 'c', 'False'],\n",
       "       ['1', 'a', 'True'],\n",
       "       ['1', 'a', 'False'],\n",
       "       ['1', 'b', 'True'],\n",
       "       ['1', 'b', 'False'],\n",
       "       ['1', 'c', 'True'],\n",
       "       ['1', 'c', 'False']], dtype='<U21')"
      ]
     },
     "execution_count": 26,
     "metadata": {},
     "output_type": "execute_result"
    }
   ],
   "source": [
    "import numpy as np\n",
    "\n",
    "x, y, z = np.arange(2), np.array(tuple('abc')), np.array([True, False])\n",
    "\n",
    "prod = np.stack(np.meshgrid(x, y, z, indexing='ij'), axis=-1).reshape(-1, 3)\n",
    "\n",
    "prod"
   ]
  },
  {
   "cell_type": "markdown",
   "metadata": {},
   "source": [
    "Here it is. We used:\n",
    "\n",
    "* [`meshgrid()`](https://numpy.org/doc/1.18/reference/generated/numpy.meshgrid.html) to get the arrays with repeated elements to be combined\n",
    "* [`stack()`](https://numpy.org/doc/1.18/reference/generated/numpy.stack.html) to join these arrays into a single resulting array\n",
    "* [`.reshape()`](https://numpy.org/doc/1.18/reference/generated/numpy.ndarray.reshape.html#numpy.ndarray.reshape) or [`reshape()`](https://numpy.org/doc/1.18/reference/generated/numpy.reshape.html) to make the resulting array two-dimensional\n",
    "\n",
    "Let's see what's going on in each step:"
   ]
  },
  {
   "cell_type": "code",
   "execution_count": 27,
   "metadata": {},
   "outputs": [
    {
     "data": {
      "text/plain": [
       "[array([[[0, 0],\n",
       "         [0, 0],\n",
       "         [0, 0]],\n",
       " \n",
       "        [[1, 1],\n",
       "         [1, 1],\n",
       "         [1, 1]]]),\n",
       " array([[['a', 'a'],\n",
       "         ['b', 'b'],\n",
       "         ['c', 'c']],\n",
       " \n",
       "        [['a', 'a'],\n",
       "         ['b', 'b'],\n",
       "         ['c', 'c']]], dtype='<U1'),\n",
       " array([[[ True, False],\n",
       "         [ True, False],\n",
       "         [ True, False]],\n",
       " \n",
       "        [[ True, False],\n",
       "         [ True, False],\n",
       "         [ True, False]]])]"
      ]
     },
     "execution_count": 27,
     "metadata": {},
     "output_type": "execute_result"
    }
   ],
   "source": [
    "np.meshgrid(x, y, z, indexing='ij')"
   ]
  },
  {
   "cell_type": "code",
   "execution_count": 28,
   "metadata": {},
   "outputs": [
    {
     "data": {
      "text/plain": [
       "array([[[['0', 'a', 'True'],\n",
       "         ['0', 'a', 'False']],\n",
       "\n",
       "        [['0', 'b', 'True'],\n",
       "         ['0', 'b', 'False']],\n",
       "\n",
       "        [['0', 'c', 'True'],\n",
       "         ['0', 'c', 'False']]],\n",
       "\n",
       "\n",
       "       [[['1', 'a', 'True'],\n",
       "         ['1', 'a', 'False']],\n",
       "\n",
       "        [['1', 'b', 'True'],\n",
       "         ['1', 'b', 'False']],\n",
       "\n",
       "        [['1', 'c', 'True'],\n",
       "         ['1', 'c', 'False']]]], dtype='<U21')"
      ]
     },
     "execution_count": 28,
     "metadata": {},
     "output_type": "execute_result"
    }
   ],
   "source": [
    "np.stack(np.meshgrid(x, y, z, indexing='ij'), axis=-1)"
   ]
  },
  {
   "cell_type": "code",
   "execution_count": 29,
   "metadata": {},
   "outputs": [
    {
     "data": {
      "text/plain": [
       "array([['0', 'a', 'True'],\n",
       "       ['0', 'a', 'False'],\n",
       "       ['0', 'b', 'True'],\n",
       "       ['0', 'b', 'False'],\n",
       "       ['0', 'c', 'True'],\n",
       "       ['0', 'c', 'False'],\n",
       "       ['1', 'a', 'True'],\n",
       "       ['1', 'a', 'False'],\n",
       "       ['1', 'b', 'True'],\n",
       "       ['1', 'b', 'False'],\n",
       "       ['1', 'c', 'True'],\n",
       "       ['1', 'c', 'False']], dtype='<U21')"
      ]
     },
     "execution_count": 29,
     "metadata": {},
     "output_type": "execute_result"
    }
   ],
   "source": [
    "np.stack(np.meshgrid(x, y, z, indexing='ij'), axis=-1).reshape(-1, 3)"
   ]
  },
  {
   "cell_type": "markdown",
   "metadata": {},
   "source": [
    "All elements from a NumPy array must have the same type. When we combine several arrays of different types (here with `stack()`), NumPy chooses the most general type for the resulting array. This is why the elements of the Cartesian product are strings."
   ]
  },
  {
   "cell_type": "markdown",
   "metadata": {},
   "source": [
    "## Cartesian Product with NumPy (Part 2 of 2)"
   ]
  },
  {
   "cell_type": "markdown",
   "metadata": {},
   "source": [
    "If we have NumPy arrays that represent regular grids, we can do this another way:"
   ]
  },
  {
   "cell_type": "code",
   "execution_count": 42,
   "metadata": {},
   "outputs": [
    {
     "data": {
      "text/plain": [
       "array([[1, 0, 0],\n",
       "       [1, 0, 1],\n",
       "       [1, 2, 0],\n",
       "       [1, 2, 1],\n",
       "       [1, 4, 0],\n",
       "       [1, 4, 1],\n",
       "       [2, 0, 0],\n",
       "       [2, 0, 1],\n",
       "       [2, 2, 0],\n",
       "       [2, 2, 1],\n",
       "       [2, 4, 0],\n",
       "       [2, 4, 1],\n",
       "       [3, 0, 0],\n",
       "       [3, 0, 1],\n",
       "       [3, 2, 0],\n",
       "       [3, 2, 1],\n",
       "       [3, 4, 0],\n",
       "       [3, 4, 1],\n",
       "       [4, 0, 0],\n",
       "       [4, 0, 1],\n",
       "       [4, 2, 0],\n",
       "       [4, 2, 1],\n",
       "       [4, 4, 0],\n",
       "       [4, 4, 1]])"
      ]
     },
     "execution_count": 42,
     "metadata": {},
     "output_type": "execute_result"
    }
   ],
   "source": [
    "import numpy as np\n",
    "\n",
    "x, y, z = np.s_[1:5], np.s_[:5:2], np.s_[:2]\n",
    "\n",
    "prod = np.mgrid[x, y, z].transpose((1, 2, 3, 0)).reshape(-1, 3)\n",
    "\n",
    "prod"
   ]
  },
  {
   "cell_type": "markdown",
   "metadata": {},
   "source": [
    "First, we use [`s_`](https://numpy.org/doc/1.18/reference/generated/numpy.s_.html) to create the slices that represent the regular grid. We can use the built-in [`slice`](https://docs.python.org/3/library/functions.html#slice) as well."
   ]
  },
  {
   "cell_type": "code",
   "execution_count": 41,
   "metadata": {},
   "outputs": [
    {
     "data": {
      "text/plain": [
       "(slice(1, 5, None), slice(None, 5, 2), slice(None, 2, None))"
      ]
     },
     "execution_count": 41,
     "metadata": {},
     "output_type": "execute_result"
    }
   ],
   "source": [
    "x, y, z"
   ]
  },
  {
   "cell_type": "markdown",
   "metadata": {},
   "source": [
    "Next we combine:\n",
    "\n",
    "* [`meshgrid`](https://numpy.org/doc/1.18/reference/generated/numpy.mgrid.html) to get the array that represents the regular grid\n",
    "* [`.transpose()`](https://numpy.org/doc/1.18/reference/generated/numpy.ndarray.transpose.html), [`transpose`](https://numpy.org/doc/1.18/reference/generated/numpy.transpose.html), or [`.T`](https://numpy.org/doc/1.18/reference/generated/numpy.ndarray.T.html) (in simpler cases) to change the order of axes for the obtained array\n",
    "* [`.reshape()`](https://numpy.org/doc/1.18/reference/generated/numpy.ndarray.reshape.html#numpy.ndarray.reshape) or [`reshape()`](https://numpy.org/doc/1.18/reference/generated/numpy.reshape.html) to make the resulting array two-dimensional\n",
    "\n",
    "Let's see what's going on in each step:"
   ]
  },
  {
   "cell_type": "code",
   "execution_count": 43,
   "metadata": {},
   "outputs": [
    {
     "data": {
      "text/plain": [
       "array([[[[1, 1],\n",
       "         [1, 1],\n",
       "         [1, 1]],\n",
       "\n",
       "        [[2, 2],\n",
       "         [2, 2],\n",
       "         [2, 2]],\n",
       "\n",
       "        [[3, 3],\n",
       "         [3, 3],\n",
       "         [3, 3]],\n",
       "\n",
       "        [[4, 4],\n",
       "         [4, 4],\n",
       "         [4, 4]]],\n",
       "\n",
       "\n",
       "       [[[0, 0],\n",
       "         [2, 2],\n",
       "         [4, 4]],\n",
       "\n",
       "        [[0, 0],\n",
       "         [2, 2],\n",
       "         [4, 4]],\n",
       "\n",
       "        [[0, 0],\n",
       "         [2, 2],\n",
       "         [4, 4]],\n",
       "\n",
       "        [[0, 0],\n",
       "         [2, 2],\n",
       "         [4, 4]]],\n",
       "\n",
       "\n",
       "       [[[0, 1],\n",
       "         [0, 1],\n",
       "         [0, 1]],\n",
       "\n",
       "        [[0, 1],\n",
       "         [0, 1],\n",
       "         [0, 1]],\n",
       "\n",
       "        [[0, 1],\n",
       "         [0, 1],\n",
       "         [0, 1]],\n",
       "\n",
       "        [[0, 1],\n",
       "         [0, 1],\n",
       "         [0, 1]]]])"
      ]
     },
     "execution_count": 43,
     "metadata": {},
     "output_type": "execute_result"
    }
   ],
   "source": [
    "np.mgrid[x, y, z]"
   ]
  },
  {
   "cell_type": "code",
   "execution_count": 44,
   "metadata": {},
   "outputs": [
    {
     "data": {
      "text/plain": [
       "array([[[[1, 0, 0],\n",
       "         [1, 0, 1]],\n",
       "\n",
       "        [[1, 2, 0],\n",
       "         [1, 2, 1]],\n",
       "\n",
       "        [[1, 4, 0],\n",
       "         [1, 4, 1]]],\n",
       "\n",
       "\n",
       "       [[[2, 0, 0],\n",
       "         [2, 0, 1]],\n",
       "\n",
       "        [[2, 2, 0],\n",
       "         [2, 2, 1]],\n",
       "\n",
       "        [[2, 4, 0],\n",
       "         [2, 4, 1]]],\n",
       "\n",
       "\n",
       "       [[[3, 0, 0],\n",
       "         [3, 0, 1]],\n",
       "\n",
       "        [[3, 2, 0],\n",
       "         [3, 2, 1]],\n",
       "\n",
       "        [[3, 4, 0],\n",
       "         [3, 4, 1]]],\n",
       "\n",
       "\n",
       "       [[[4, 0, 0],\n",
       "         [4, 0, 1]],\n",
       "\n",
       "        [[4, 2, 0],\n",
       "         [4, 2, 1]],\n",
       "\n",
       "        [[4, 4, 0],\n",
       "         [4, 4, 1]]]])"
      ]
     },
     "execution_count": 44,
     "metadata": {},
     "output_type": "execute_result"
    }
   ],
   "source": [
    "np.mgrid[x, y, z].transpose((1, 2, 3, 0))"
   ]
  },
  {
   "cell_type": "code",
   "execution_count": 45,
   "metadata": {},
   "outputs": [
    {
     "data": {
      "text/plain": [
       "array([[1, 0, 0],\n",
       "       [1, 0, 1],\n",
       "       [1, 2, 0],\n",
       "       [1, 2, 1],\n",
       "       [1, 4, 0],\n",
       "       [1, 4, 1],\n",
       "       [2, 0, 0],\n",
       "       [2, 0, 1],\n",
       "       [2, 2, 0],\n",
       "       [2, 2, 1],\n",
       "       [2, 4, 0],\n",
       "       [2, 4, 1],\n",
       "       [3, 0, 0],\n",
       "       [3, 0, 1],\n",
       "       [3, 2, 0],\n",
       "       [3, 2, 1],\n",
       "       [3, 4, 0],\n",
       "       [3, 4, 1],\n",
       "       [4, 0, 0],\n",
       "       [4, 0, 1],\n",
       "       [4, 2, 0],\n",
       "       [4, 2, 1],\n",
       "       [4, 4, 0],\n",
       "       [4, 4, 1]])"
      ]
     },
     "execution_count": 45,
     "metadata": {},
     "output_type": "execute_result"
    }
   ],
   "source": [
    "np.mgrid[x, y, z].transpose((1, 2, 3, 0)).reshape(-1, 3)"
   ]
  },
  {
   "cell_type": "markdown",
   "metadata": {},
   "source": [
    "Again, we got the array that represents the Cartesian product. This time, it has integer elements."
   ]
  },
  {
   "cell_type": "markdown",
   "metadata": {},
   "source": [
    "## Concusion"
   ]
  },
  {
   "cell_type": "markdown",
   "metadata": {},
   "source": [
    "This notebook offers three solutions to easily calculate the Cartesian product in Python. One of them uses the built-in itertools library and the other two apply NumPy."
   ]
  },
  {
   "cell_type": "markdown",
   "metadata": {},
   "source": [
    "----\n",
    "\n",
    "Author: [**Mirko M. Stojiljković**, Ph.D.](http://mmst.tech) [@MMStojiljkovic](https://twitter.com/MMStojiljkovic)"
   ]
  }
 ],
 "metadata": {
  "kernelspec": {
   "display_name": "Python 3 (ms-sci)",
   "language": "python",
   "name": "ms-sci"
  },
  "language_info": {
   "codemirror_mode": {
    "name": "ipython",
    "version": 3
   },
   "file_extension": ".py",
   "mimetype": "text/x-python",
   "name": "python",
   "nbconvert_exporter": "python",
   "pygments_lexer": "ipython3",
   "version": "3.8.2"
  }
 },
 "nbformat": 4,
 "nbformat_minor": 4
}
