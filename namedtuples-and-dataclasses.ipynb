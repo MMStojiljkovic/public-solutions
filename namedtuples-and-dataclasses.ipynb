{
 "cells": [
  {
   "cell_type": "markdown",
   "id": "07fe408c-293e-4d8b-aef4-7d96b387a9e6",
   "metadata": {},
   "source": [
    "# Testing and comparing named tuples vs. data classes in Python\n",
    "\n",
    "My brief comparison, only for informational purposes."
   ]
  },
  {
   "cell_type": "code",
   "execution_count": 1,
   "id": "9a0e9b45-e72e-4d5e-98b0-a9bbe735db65",
   "metadata": {},
   "outputs": [],
   "source": [
    "from collections import namedtuple\n",
    "from dataclasses import dataclass\n",
    "import sys\n",
    "from typing import NamedTuple, Union"
   ]
  },
  {
   "cell_type": "markdown",
   "id": "b1fbf6dc-54b9-4843-badd-690dad3d0ae1",
   "metadata": {},
   "source": [
    "### Creating types\n",
    "\n",
    "* `Z`: `collections.namedtuple`\n",
    "* `Z_`: `typing.NamedTuple` the old way\n",
    "* `Z__`: `typing.NamedTuple` the new way (`class`-like)\n",
    "* `D`: `dataclass` with `__dict__`\n",
    "* `D_`: `dataclass` with `__slots__`"
   ]
  },
  {
   "cell_type": "code",
   "execution_count": 2,
   "id": "4bfeb4ed-e657-471e-a871-bd58f5863c0f",
   "metadata": {},
   "outputs": [],
   "source": [
    "Z = namedtuple('Z', ('x1', 'x2', 'x3', 'x4', 'x5', 'y'))\n",
    "Z.__doc__ = \\\n",
    "    \"\"\"\n",
    "    Z type\n",
    "\n",
    "    Attributes\n",
    "    ----------\n",
    "    x1 : int\n",
    "        Description of x\n",
    "    x2 : int\n",
    "        Description of x\n",
    "    x3 : int\n",
    "        Description of x\n",
    "    x4 : int\n",
    "        Description of x\n",
    "    x5 : int\n",
    "        Description of x\n",
    "    y : Union[int, str]\n",
    "        Description of y\n",
    "\n",
    "    \"\"\"\n",
    "\n",
    "\n",
    "Z_ = NamedTuple('Z_', x1=int, x2=int, x3=int, x4=int, x5=int, y=str)\n",
    "Z_.__doc__ = \\\n",
    "    \"\"\"\n",
    "    Z_ type\n",
    "\n",
    "    Attributes\n",
    "    ----------\n",
    "    x1 : int\n",
    "        Description of x\n",
    "    x2 : int\n",
    "        Description of x\n",
    "    x3 : int\n",
    "        Description of x\n",
    "    x4 : int\n",
    "        Description of x\n",
    "    x5 : int\n",
    "        Description of x\n",
    "    y : Union[int, str]\n",
    "        Description of y\n",
    "\n",
    "    \"\"\"\n",
    "\n",
    "\n",
    "class Z__(NamedTuple):\n",
    "    \"\"\"\n",
    "    Z__ type\n",
    "\n",
    "    Attributes\n",
    "    ----------\n",
    "    x1 : int\n",
    "        Description of x\n",
    "    x2 : int\n",
    "        Description of x\n",
    "    x3 : int\n",
    "        Description of x\n",
    "    x4 : int\n",
    "        Description of x\n",
    "    x5 : int\n",
    "        Description of x\n",
    "    y : Union[int, str]\n",
    "        Description of y\n",
    "\n",
    "    \"\"\"\n",
    "    x1: int\n",
    "    x2: int\n",
    "    x3: int\n",
    "    x4: int\n",
    "    x5: int\n",
    "    y: Union[int, str]\n",
    "\n",
    "\n",
    "@dataclass(frozen=True)\n",
    "class D:\n",
    "    \"\"\"\n",
    "    D type\n",
    "\n",
    "    Attributes\n",
    "    ----------\n",
    "    x1 : int\n",
    "        Description of x\n",
    "    x2 : int\n",
    "        Description of x\n",
    "    x3 : int\n",
    "        Description of x\n",
    "    x4 : int\n",
    "        Description of x\n",
    "    x5 : int\n",
    "        Description of x\n",
    "    y : Union[int, str]\n",
    "        Description of y\n",
    "\n",
    "    \"\"\"\n",
    "    x1: int\n",
    "    x2: int\n",
    "    x3: int\n",
    "    x4: int\n",
    "    x5: int\n",
    "    y: Union[int, str]\n",
    "\n",
    "\n",
    "@dataclass(frozen=True)\n",
    "class D_:\n",
    "    \"\"\"\n",
    "    D_ type\n",
    "\n",
    "    Attributes\n",
    "    ----------\n",
    "    x1 : int\n",
    "        Description of x\n",
    "    x2 : int\n",
    "        Description of x\n",
    "    x3 : int\n",
    "        Description of x\n",
    "    x4 : int\n",
    "        Description of x\n",
    "    x5 : int\n",
    "        Description of x\n",
    "    y : Union[int, str]\n",
    "        Description of y\n",
    "\n",
    "    \"\"\"\n",
    "    __slots__ = ('x1', 'x2', 'x3', 'x4', 'x5', 'y')\n",
    "    x1: int\n",
    "    x2: int\n",
    "    x3: int\n",
    "    x4: int\n",
    "    x5: int\n",
    "    y: Union[int, str]"
   ]
  },
  {
   "cell_type": "markdown",
   "id": "e9eaa8e8-bebd-4dbe-ad32-c939e65809cb",
   "metadata": {},
   "source": [
    "### Creating instances\n",
    "\n",
    "* `z1`: `collections.namedtuple`\n",
    "* `z2`: `typing.NamedTuple` the old way\n",
    "* `z3`: `typing.NamedTuple` the new way (`class`-like)\n",
    "* `d1`: `dataclass` with `__dict__`\n",
    "* `d2`: `dataclass` with `__slots__`"
   ]
  },
  {
   "cell_type": "code",
   "execution_count": 3,
   "id": "e63d36b2-fe0b-407c-b18d-09377cba98a3",
   "metadata": {},
   "outputs": [],
   "source": [
    "z1 = Z(1, 2, 3, 4, 5, 'xyz')\n",
    "z2 = Z_(1, 2, 3, 4, 5, 'xyz')\n",
    "z3 = Z__(1, 2, 3, 4, 5, 'xyz')\n",
    "d1 = D(1, 2, 3, 4, 5, 'xyz')\n",
    "d2 = D_(1, 2, 3, 4, 5, 'xyz')"
   ]
  },
  {
   "cell_type": "markdown",
   "id": "e28c4787-d91d-4fd0-bc31-dec4d1ae34f2",
   "metadata": {},
   "source": [
    "### Testing behavior of the `==` operator"
   ]
  },
  {
   "cell_type": "code",
   "execution_count": 4,
   "id": "74e0deb1-b3b2-4268-8f5d-daccdf8f8a94",
   "metadata": {},
   "outputs": [
    {
     "data": {
      "text/plain": [
       "True"
      ]
     },
     "execution_count": 4,
     "metadata": {},
     "output_type": "execute_result"
    }
   ],
   "source": [
    "z1 == z2 == z3"
   ]
  },
  {
   "cell_type": "code",
   "execution_count": 5,
   "id": "7ffd1c93-6396-4794-8e04-1dc5f19e72a5",
   "metadata": {},
   "outputs": [
    {
     "data": {
      "text/plain": [
       "False"
      ]
     },
     "execution_count": 5,
     "metadata": {},
     "output_type": "execute_result"
    }
   ],
   "source": [
    "z1 == d1"
   ]
  },
  {
   "cell_type": "code",
   "execution_count": 6,
   "id": "91a8797f-a773-4c46-a4a4-c9006a18f190",
   "metadata": {},
   "outputs": [
    {
     "data": {
      "text/plain": [
       "False"
      ]
     },
     "execution_count": 6,
     "metadata": {},
     "output_type": "execute_result"
    }
   ],
   "source": [
    "d1 == d2"
   ]
  },
  {
   "cell_type": "code",
   "execution_count": 7,
   "id": "795de6bf-17ee-4691-baac-06723188fadc",
   "metadata": {},
   "outputs": [
    {
     "data": {
      "text/plain": [
       "True"
      ]
     },
     "execution_count": 7,
     "metadata": {},
     "output_type": "execute_result"
    }
   ],
   "source": [
    "d1 == D(1, 2, 3, 4, 5, 'xyz')"
   ]
  },
  {
   "cell_type": "code",
   "execution_count": 8,
   "id": "83bab4e8-f89d-4e20-80a4-8955a9851d40",
   "metadata": {},
   "outputs": [
    {
     "data": {
      "text/plain": [
       "True"
      ]
     },
     "execution_count": 8,
     "metadata": {},
     "output_type": "execute_result"
    }
   ],
   "source": [
    "d2 == D_(1, 2, 3, 4, 5, 'xyz')"
   ]
  },
  {
   "cell_type": "markdown",
   "id": "9ca2cbdc-89a4-4500-9852-8702a0c26bfa",
   "metadata": {},
   "source": [
    "### Comparing members"
   ]
  },
  {
   "cell_type": "code",
   "execution_count": 9,
   "id": "f05f8397-287f-4c97-8222-2a470976d833",
   "metadata": {},
   "outputs": [
    {
     "name": "stdout",
     "output_type": "stream",
     "text": [
      "[]\n",
      "['__annotations__']\n"
     ]
    }
   ],
   "source": [
    "print(\n",
    "    sorted(set(dir(z1)) - set(dir(z2))),\n",
    "    sorted(set(dir(z2)) - set(dir(z1))),\n",
    "    sep='\\n'\n",
    ")"
   ]
  },
  {
   "cell_type": "code",
   "execution_count": 10,
   "id": "10daa182-4a1e-4f5f-9228-f95af32ec500",
   "metadata": {},
   "outputs": [
    {
     "name": "stdout",
     "output_type": "stream",
     "text": [
      "[]\n",
      "['__annotations__', '__orig_bases__']\n"
     ]
    }
   ],
   "source": [
    "print(\n",
    "    sorted(set(dir(z1)) - set(dir(z3))),\n",
    "    sorted(set(dir(z3)) - set(dir(z1))),\n",
    "    sep='\\n'\n",
    ")"
   ]
  },
  {
   "cell_type": "code",
   "execution_count": 11,
   "id": "b18fc9ae-635e-4de6-9d83-1b4642ddbc78",
   "metadata": {},
   "outputs": [
    {
     "name": "stdout",
     "output_type": "stream",
     "text": [
      "[]\n",
      "['__orig_bases__']\n"
     ]
    }
   ],
   "source": [
    "print(\n",
    "    sorted(set(dir(z2)) - set(dir(z3))),\n",
    "    sorted(set(dir(z3)) - set(dir(z2))),\n",
    "    sep='\\n'\n",
    ")"
   ]
  },
  {
   "cell_type": "code",
   "execution_count": 12,
   "id": "14e7bbca-5bd7-4a86-bca1-d24ed654405d",
   "metadata": {},
   "outputs": [
    {
     "name": "stdout",
     "output_type": "stream",
     "text": [
      "['__add__', '__class_getitem__', '__contains__', '__getitem__', '__getnewargs__', '__iter__', '__len__', '__mul__', '__rmul__', '__slots__', '_asdict', '_field_defaults', '_fields', '_make', '_replace', 'count', 'index']\n",
      "['__annotations__', '__dataclass_fields__', '__dataclass_params__', '__dict__', '__weakref__']\n"
     ]
    }
   ],
   "source": [
    "print(\n",
    "    sorted(set(dir(z1)) - set(dir(d1))),\n",
    "    sorted(set(dir(d1)) - set(dir(z1))),\n",
    "    sep='\\n'\n",
    ")"
   ]
  },
  {
   "cell_type": "code",
   "execution_count": 13,
   "id": "b56d39b3-46f2-489b-9f31-e67206eaa4f6",
   "metadata": {},
   "outputs": [
    {
     "name": "stdout",
     "output_type": "stream",
     "text": [
      "[]\n",
      "['__annotations__']\n"
     ]
    }
   ],
   "source": [
    "print(\n",
    "    sorted(set(dir(Z)) - set(dir(Z_))),\n",
    "    sorted(set(dir(Z_)) - set(dir(Z))),\n",
    "    sep='\\n'\n",
    ")"
   ]
  },
  {
   "cell_type": "code",
   "execution_count": 14,
   "id": "43ee932e-01aa-445f-8c03-52ee8bff9e1e",
   "metadata": {},
   "outputs": [
    {
     "name": "stdout",
     "output_type": "stream",
     "text": [
      "[]\n",
      "['__annotations__', '__orig_bases__']\n"
     ]
    }
   ],
   "source": [
    "print(\n",
    "    sorted(set(dir(Z)) - set(dir(Z__))),\n",
    "    sorted(set(dir(Z__)) - set(dir(Z))),\n",
    "    sep='\\n'\n",
    ")"
   ]
  },
  {
   "cell_type": "code",
   "execution_count": 15,
   "id": "c00b4cfb-95ae-4c4a-b45a-981c0e3ce386",
   "metadata": {},
   "outputs": [
    {
     "name": "stdout",
     "output_type": "stream",
     "text": [
      "[]\n",
      "['__orig_bases__']\n"
     ]
    }
   ],
   "source": [
    "print(\n",
    "    sorted(set(dir(Z_)) - set(dir(Z__))),\n",
    "    sorted(set(dir(Z__)) - set(dir(Z_))),\n",
    "    sep='\\n'\n",
    ")"
   ]
  },
  {
   "cell_type": "code",
   "execution_count": 16,
   "id": "4590083a-fb51-4bad-94aa-36dfde1d06da",
   "metadata": {},
   "outputs": [
    {
     "name": "stdout",
     "output_type": "stream",
     "text": [
      "['__add__', '__class_getitem__', '__contains__', '__getitem__', '__getnewargs__', '__iter__', '__len__', '__mul__', '__rmul__', '__slots__', '_asdict', '_field_defaults', '_fields', '_make', '_replace', 'count', 'index', 'x1', 'x2', 'x3', 'x4', 'x5', 'y']\n",
      "['__annotations__', '__dataclass_fields__', '__dataclass_params__', '__dict__', '__weakref__']\n"
     ]
    }
   ],
   "source": [
    "print(\n",
    "    sorted(set(dir(Z)) - set(dir(D))),\n",
    "    sorted(set(dir(D)) - set(dir(Z))),\n",
    "    sep='\\n'\n",
    ")"
   ]
  },
  {
   "cell_type": "code",
   "execution_count": 17,
   "id": "194f7527-facc-498a-8571-9edacf5419d8",
   "metadata": {},
   "outputs": [
    {
     "name": "stdout",
     "output_type": "stream",
     "text": [
      "['__dict__', '__weakref__']\n",
      "['__slots__', 'x1', 'x2', 'x3', 'x4', 'x5', 'y']\n"
     ]
    }
   ],
   "source": [
    "print(\n",
    "    sorted(set(dir(D)) - set(dir(D_))),\n",
    "    sorted(set(dir(D_)) - set(dir(D))),\n",
    "    sep='\\n'\n",
    ")"
   ]
  },
  {
   "cell_type": "code",
   "execution_count": 18,
   "id": "ef43e74a-6a1a-4a67-8bd6-d696efdba32a",
   "metadata": {},
   "outputs": [
    {
     "data": {
      "text/plain": [
       "({'x1': int, 'x2': int, 'x3': int, 'x4': int, 'x5': int, 'y': str},\n",
       " {'x1': int,\n",
       "  'x2': int,\n",
       "  'x3': int,\n",
       "  'x4': int,\n",
       "  'x5': int,\n",
       "  'y': typing.Union[int, str]})"
      ]
     },
     "execution_count": 18,
     "metadata": {},
     "output_type": "execute_result"
    }
   ],
   "source": [
    "z2.__annotations__, z3.__annotations__"
   ]
  },
  {
   "cell_type": "code",
   "execution_count": 19,
   "id": "694ba1a5-1def-4e23-b530-f7b12cb73462",
   "metadata": {},
   "outputs": [
    {
     "data": {
      "text/plain": [
       "(<function typing.NamedTuple(typename, fields=None, /, **kwargs)>,)"
      ]
     },
     "execution_count": 19,
     "metadata": {},
     "output_type": "execute_result"
    }
   ],
   "source": [
    "z3.__orig_bases__"
   ]
  },
  {
   "cell_type": "code",
   "execution_count": 20,
   "id": "0e713e9a-5712-41c5-8b90-85e62df5df88",
   "metadata": {},
   "outputs": [
    {
     "data": {
      "text/plain": [
       "({'x1': int,\n",
       "  'x2': int,\n",
       "  'x3': int,\n",
       "  'x4': int,\n",
       "  'x5': int,\n",
       "  'y': typing.Union[int, str]},\n",
       " {'x1': int,\n",
       "  'x2': int,\n",
       "  'x3': int,\n",
       "  'x4': int,\n",
       "  'x5': int,\n",
       "  'y': typing.Union[int, str]})"
      ]
     },
     "execution_count": 20,
     "metadata": {},
     "output_type": "execute_result"
    }
   ],
   "source": [
    "d1.__annotations__, d2.__annotations__"
   ]
  },
  {
   "cell_type": "code",
   "execution_count": 21,
   "id": "256091d1-3780-4ebd-8b4e-48e046a6bc4f",
   "metadata": {},
   "outputs": [
    {
     "data": {
      "text/plain": [
       "(('x1', 'x2', 'x3', 'x4', 'x5', 'y'),\n",
       " ('x1', 'x2', 'x3', 'x4', 'x5', 'y'),\n",
       " ('x1', 'x2', 'x3', 'x4', 'x5', 'y'))"
      ]
     },
     "execution_count": 21,
     "metadata": {},
     "output_type": "execute_result"
    }
   ],
   "source": [
    "z1._fields, z2._fields, z2._fields"
   ]
  },
  {
   "cell_type": "code",
   "execution_count": 22,
   "id": "3af8e2b1-ad26-4c3b-9e6e-b15740680e86",
   "metadata": {},
   "outputs": [
    {
     "data": {
      "text/plain": [
       "({'x1': Field(name='x1',type=<class 'int'>,default=<dataclasses._MISSING_TYPE object at 0x7f78656c91f0>,default_factory=<dataclasses._MISSING_TYPE object at 0x7f78656c91f0>,init=True,repr=True,hash=None,compare=True,metadata=mappingproxy({}),_field_type=_FIELD),\n",
       "  'x2': Field(name='x2',type=<class 'int'>,default=<dataclasses._MISSING_TYPE object at 0x7f78656c91f0>,default_factory=<dataclasses._MISSING_TYPE object at 0x7f78656c91f0>,init=True,repr=True,hash=None,compare=True,metadata=mappingproxy({}),_field_type=_FIELD),\n",
       "  'x3': Field(name='x3',type=<class 'int'>,default=<dataclasses._MISSING_TYPE object at 0x7f78656c91f0>,default_factory=<dataclasses._MISSING_TYPE object at 0x7f78656c91f0>,init=True,repr=True,hash=None,compare=True,metadata=mappingproxy({}),_field_type=_FIELD),\n",
       "  'x4': Field(name='x4',type=<class 'int'>,default=<dataclasses._MISSING_TYPE object at 0x7f78656c91f0>,default_factory=<dataclasses._MISSING_TYPE object at 0x7f78656c91f0>,init=True,repr=True,hash=None,compare=True,metadata=mappingproxy({}),_field_type=_FIELD),\n",
       "  'x5': Field(name='x5',type=<class 'int'>,default=<dataclasses._MISSING_TYPE object at 0x7f78656c91f0>,default_factory=<dataclasses._MISSING_TYPE object at 0x7f78656c91f0>,init=True,repr=True,hash=None,compare=True,metadata=mappingproxy({}),_field_type=_FIELD),\n",
       "  'y': Field(name='y',type=typing.Union[int, str],default=<dataclasses._MISSING_TYPE object at 0x7f78656c91f0>,default_factory=<dataclasses._MISSING_TYPE object at 0x7f78656c91f0>,init=True,repr=True,hash=None,compare=True,metadata=mappingproxy({}),_field_type=_FIELD)},\n",
       " {'x1': Field(name='x1',type=<class 'int'>,default=<dataclasses._MISSING_TYPE object at 0x7f78656c91f0>,default_factory=<dataclasses._MISSING_TYPE object at 0x7f78656c91f0>,init=True,repr=True,hash=None,compare=True,metadata=mappingproxy({}),_field_type=_FIELD),\n",
       "  'x2': Field(name='x2',type=<class 'int'>,default=<dataclasses._MISSING_TYPE object at 0x7f78656c91f0>,default_factory=<dataclasses._MISSING_TYPE object at 0x7f78656c91f0>,init=True,repr=True,hash=None,compare=True,metadata=mappingproxy({}),_field_type=_FIELD),\n",
       "  'x3': Field(name='x3',type=<class 'int'>,default=<dataclasses._MISSING_TYPE object at 0x7f78656c91f0>,default_factory=<dataclasses._MISSING_TYPE object at 0x7f78656c91f0>,init=True,repr=True,hash=None,compare=True,metadata=mappingproxy({}),_field_type=_FIELD),\n",
       "  'x4': Field(name='x4',type=<class 'int'>,default=<dataclasses._MISSING_TYPE object at 0x7f78656c91f0>,default_factory=<dataclasses._MISSING_TYPE object at 0x7f78656c91f0>,init=True,repr=True,hash=None,compare=True,metadata=mappingproxy({}),_field_type=_FIELD),\n",
       "  'x5': Field(name='x5',type=<class 'int'>,default=<dataclasses._MISSING_TYPE object at 0x7f78656c91f0>,default_factory=<dataclasses._MISSING_TYPE object at 0x7f78656c91f0>,init=True,repr=True,hash=None,compare=True,metadata=mappingproxy({}),_field_type=_FIELD),\n",
       "  'y': Field(name='y',type=typing.Union[int, str],default=<dataclasses._MISSING_TYPE object at 0x7f78656c91f0>,default_factory=<dataclasses._MISSING_TYPE object at 0x7f78656c91f0>,init=True,repr=True,hash=None,compare=True,metadata=mappingproxy({}),_field_type=_FIELD)})"
      ]
     },
     "execution_count": 22,
     "metadata": {},
     "output_type": "execute_result"
    }
   ],
   "source": [
    "d1.__dataclass_fields__, d2.__dataclass_fields__"
   ]
  },
  {
   "cell_type": "code",
   "execution_count": 23,
   "id": "2555597a-ee3f-4926-a0de-c7797521b37f",
   "metadata": {},
   "outputs": [
    {
     "data": {
      "text/plain": [
       "(_DataclassParams(init=True,repr=True,eq=True,order=False,unsafe_hash=False,frozen=True),\n",
       " {'x1': 1, 'x2': 2, 'x3': 3, 'x4': 4, 'x5': 5, 'y': 'xyz'},\n",
       " _DataclassParams(init=True,repr=True,eq=True,order=False,unsafe_hash=False,frozen=True),\n",
       " ('x1', 'x2', 'x3', 'x4', 'x5', 'y'))"
      ]
     },
     "execution_count": 23,
     "metadata": {},
     "output_type": "execute_result"
    }
   ],
   "source": [
    "d1.__dataclass_params__, d1.__dict__, d2.__dataclass_params__, d2.__slots__"
   ]
  },
  {
   "cell_type": "code",
   "execution_count": 24,
   "id": "be6a73c5-4cab-4428-871c-0e7607dd637a",
   "metadata": {},
   "outputs": [
    {
     "data": {
      "text/plain": [
       "({}, {}, {})"
      ]
     },
     "execution_count": 24,
     "metadata": {},
     "output_type": "execute_result"
    }
   ],
   "source": [
    "z1._field_defaults, z2._field_defaults, z2._field_defaults"
   ]
  },
  {
   "cell_type": "code",
   "execution_count": 25,
   "id": "92e9bd02-f983-4d82-85ca-b9f9cd0635b7",
   "metadata": {},
   "outputs": [
    {
     "data": {
      "text/plain": [
       "(<function Z.count(value, /)>,\n",
       " <function Z_.count(value, /)>,\n",
       " <function Z_.count(value, /)>)"
      ]
     },
     "execution_count": 25,
     "metadata": {},
     "output_type": "execute_result"
    }
   ],
   "source": [
    "z1.count, z2.count, z2.count"
   ]
  },
  {
   "cell_type": "code",
   "execution_count": 26,
   "id": "45c2fdbd-9f62-4acb-af48-6cdb62a19412",
   "metadata": {},
   "outputs": [
    {
     "data": {
      "text/plain": [
       "(<function Z.index(value, start=0, stop=9223372036854775807, /)>,\n",
       " <function Z_.index(value, start=0, stop=9223372036854775807, /)>,\n",
       " <function Z_.index(value, start=0, stop=9223372036854775807, /)>)"
      ]
     },
     "execution_count": 26,
     "metadata": {},
     "output_type": "execute_result"
    }
   ],
   "source": [
    "z1.index, z2.index, z2.index"
   ]
  },
  {
   "cell_type": "markdown",
   "id": "be585ac8-73c0-4803-8fc4-bae05f33fb65",
   "metadata": {},
   "source": [
    "### Checking performance: initialization\n",
    "\n",
    "* `collections.namedtuple` slightly better than  `typing.NamedTuple`\n",
    "* `typing.NamedTuple` much better than `dataclass` with `__slots__`\n",
    "* `dataclass` with `__slots__` slightly better than `dataclass` with `__dict__`"
   ]
  },
  {
   "cell_type": "code",
   "execution_count": 27,
   "id": "0d0bdcf7-101c-464b-ac1e-8b85f094008b",
   "metadata": {},
   "outputs": [
    {
     "name": "stdout",
     "output_type": "stream",
     "text": [
      "316 ns ± 0.201 ns per loop (mean ± std. dev. of 7 runs, 1000000 loops each)\n"
     ]
    }
   ],
   "source": [
    "%%timeit\n",
    "z1 = Z(1, 2, 3, 4, 5, 'xyz')"
   ]
  },
  {
   "cell_type": "code",
   "execution_count": 28,
   "id": "b8214ed6-e979-4d4d-ae6c-ea35907b3584",
   "metadata": {},
   "outputs": [
    {
     "name": "stdout",
     "output_type": "stream",
     "text": [
      "327 ns ± 0.695 ns per loop (mean ± std. dev. of 7 runs, 1000000 loops each)\n"
     ]
    }
   ],
   "source": [
    "%%timeit\n",
    "z2 = Z_(1, 2, 3, 4, 5, 'xyz')"
   ]
  },
  {
   "cell_type": "code",
   "execution_count": 29,
   "id": "ed078271-ca1e-4ccb-bc79-265e2d37467c",
   "metadata": {},
   "outputs": [
    {
     "name": "stdout",
     "output_type": "stream",
     "text": [
      "324 ns ± 0.25 ns per loop (mean ± std. dev. of 7 runs, 1000000 loops each)\n"
     ]
    }
   ],
   "source": [
    "%%timeit\n",
    "z3 = Z__(1, 2, 3, 4, 5, 'xyz')"
   ]
  },
  {
   "cell_type": "code",
   "execution_count": 30,
   "id": "a03be1f4-874d-44a8-b496-81b5cec611b8",
   "metadata": {},
   "outputs": [
    {
     "name": "stdout",
     "output_type": "stream",
     "text": [
      "1.1 µs ± 0.156 ns per loop (mean ± std. dev. of 7 runs, 1000000 loops each)\n"
     ]
    }
   ],
   "source": [
    "%%timeit\n",
    "d1 = D(1, 2, 3, 4, 5, 'xyz')"
   ]
  },
  {
   "cell_type": "code",
   "execution_count": 31,
   "id": "6fab3bd8-a5c9-42f1-938b-f3808a1b7e32",
   "metadata": {},
   "outputs": [
    {
     "name": "stdout",
     "output_type": "stream",
     "text": [
      "998 ns ± 0.188 ns per loop (mean ± std. dev. of 7 runs, 1000000 loops each)\n"
     ]
    }
   ],
   "source": [
    "%%timeit\n",
    "d2 = D_(1, 2, 3, 4, 5, 'xyz')"
   ]
  },
  {
   "cell_type": "markdown",
   "id": "12789041-f909-4719-8ae8-0ac46fde6a19",
   "metadata": {},
   "source": [
    "### Checking performance: reading attribute value\n",
    "\n",
    "(Depends on the problem size)\n",
    "\n",
    "* Named tuples slightly better than data classes"
   ]
  },
  {
   "cell_type": "code",
   "execution_count": 32,
   "id": "05915135-2bc0-4bcf-8c4b-1afde6082dfc",
   "metadata": {},
   "outputs": [
    {
     "name": "stdout",
     "output_type": "stream",
     "text": [
      "228 ns ± 0.405 ns per loop (mean ± std. dev. of 7 runs, 1000000 loops each)\n"
     ]
    }
   ],
   "source": [
    "%%timeit\n",
    "x11, x12, x13, x14, x15, y1 = z1.x1, z1.x2, z1.x3, z1.x4, z1.x5, z1.y"
   ]
  },
  {
   "cell_type": "code",
   "execution_count": 33,
   "id": "5727d5ed-14fb-4036-9e3f-7b770154bc53",
   "metadata": {},
   "outputs": [
    {
     "name": "stdout",
     "output_type": "stream",
     "text": [
      "217 ns ± 0.379 ns per loop (mean ± std. dev. of 7 runs, 1000000 loops each)\n"
     ]
    }
   ],
   "source": [
    "%%timeit\n",
    "x21, x22, x23, x24, x25, y2 = z2.x1, z2.x2, z2.x3, z2.x4, z2.x5, z2.y"
   ]
  },
  {
   "cell_type": "code",
   "execution_count": 34,
   "id": "92ce7594-ce79-4d7b-af9b-956185d5cce8",
   "metadata": {},
   "outputs": [
    {
     "name": "stdout",
     "output_type": "stream",
     "text": [
      "214 ns ± 0.185 ns per loop (mean ± std. dev. of 7 runs, 1000000 loops each)\n"
     ]
    }
   ],
   "source": [
    "%%timeit\n",
    "x31, x32, x33, x34, x35, y3 = z3.x1, z3.x2, z3.x3, z3.x4, z3.x5, z3.y"
   ]
  },
  {
   "cell_type": "code",
   "execution_count": 35,
   "id": "6414784b-9514-4552-aced-a0e0e39f3f76",
   "metadata": {},
   "outputs": [
    {
     "name": "stdout",
     "output_type": "stream",
     "text": [
      "245 ns ± 0.218 ns per loop (mean ± std. dev. of 7 runs, 1000000 loops each)\n"
     ]
    }
   ],
   "source": [
    "%%timeit\n",
    "x_1, x_2, x_3, x_4, x_5, y_ = d1.x1, d1.x2, d1.x3, d1.x4, d1.x5, d1.y"
   ]
  },
  {
   "cell_type": "code",
   "execution_count": 36,
   "id": "ffadc57a-156e-4ad1-b7b4-cfd3291898b0",
   "metadata": {},
   "outputs": [
    {
     "name": "stdout",
     "output_type": "stream",
     "text": [
      "235 ns ± 0.21 ns per loop (mean ± std. dev. of 7 runs, 1000000 loops each)\n"
     ]
    }
   ],
   "source": [
    "%%timeit\n",
    "x__1, x__2, x__3, x__4, x__5, y__ = d2.x1, d2.x2, d2.x3, d2.x4, d2.x5, d2.y"
   ]
  },
  {
   "cell_type": "markdown",
   "id": "c1e76dbf-c3b5-4107-ad26-bb451f502313",
   "metadata": {},
   "source": [
    "### Testing behavior as `set` elements and `dict` keys\n",
    "\n",
    "* All of them can be used as `set` elements and `dict` keys! Great!"
   ]
  },
  {
   "cell_type": "code",
   "execution_count": 37,
   "id": "010ca241-e91a-4b85-99e7-f5795cd92ce8",
   "metadata": {},
   "outputs": [
    {
     "data": {
      "text/plain": [
       "({D(x1=1, x2=2, x3=3, x4=4, x5=5, y='xyz'),\n",
       "  D_(x1=1, x2=2, x3=3, x4=4, x5=5, y='xyz'),\n",
       "  Z(x1=1, x2=2, x3=3, x4=4, x5=5, y='xyz')},\n",
       " {Z(x1=1, x2=2, x3=3, x4=4, x5=5, y='xyz'): 3,\n",
       "  D(x1=1, x2=2, x3=3, x4=4, x5=5, y='xyz'): 4,\n",
       "  D_(x1=1, x2=2, x3=3, x4=4, x5=5, y='xyz'): 5})"
      ]
     },
     "execution_count": 37,
     "metadata": {},
     "output_type": "execute_result"
    }
   ],
   "source": [
    "s = {z1, z2, z3, d1, d2}\n",
    "s_ = frozenset(s)\n",
    "d_ = {z1: 1, z2: 2, z3:3, d1: 4, d2: 5}\n",
    "\n",
    "s, d_"
   ]
  },
  {
   "cell_type": "code",
   "execution_count": 38,
   "id": "6cd9d797-fd40-49bc-b6aa-67e2746a58b7",
   "metadata": {},
   "outputs": [],
   "source": [
    "args = tuple(range(1, 6))"
   ]
  },
  {
   "cell_type": "code",
   "execution_count": 39,
   "id": "3f71575d-57f9-4958-a9f3-083d4b06842b",
   "metadata": {},
   "outputs": [
    {
     "data": {
      "text/plain": [
       "(True, True, True)"
      ]
     },
     "execution_count": 39,
     "metadata": {},
     "output_type": "execute_result"
    }
   ],
   "source": [
    "Z(*args, 'xyz') in s, Z(*args, 'xyz') in s_, Z(*args, 'xyz') in d_"
   ]
  },
  {
   "cell_type": "code",
   "execution_count": 40,
   "id": "47caf45d-ccc7-43b0-afb0-e6132dee0ac1",
   "metadata": {},
   "outputs": [
    {
     "data": {
      "text/plain": [
       "(True, True, True)"
      ]
     },
     "execution_count": 40,
     "metadata": {},
     "output_type": "execute_result"
    }
   ],
   "source": [
    "Z_(*args, 'xyz') in s, Z_(*args, 'xyz') in s_, Z_(*args, 'xyz') in d_"
   ]
  },
  {
   "cell_type": "code",
   "execution_count": 41,
   "id": "b74aec1b-4a71-4f08-96cb-597979f165c8",
   "metadata": {},
   "outputs": [
    {
     "data": {
      "text/plain": [
       "(True, True, True)"
      ]
     },
     "execution_count": 41,
     "metadata": {},
     "output_type": "execute_result"
    }
   ],
   "source": [
    "Z__(*args, 'xyz') in s, Z__(*args, 'xyz') in s_, Z__(*args, 'xyz') in d_"
   ]
  },
  {
   "cell_type": "code",
   "execution_count": 42,
   "id": "a1e12f66-c41d-49e1-8135-75ed287510f0",
   "metadata": {},
   "outputs": [
    {
     "data": {
      "text/plain": [
       "(True, True, True)"
      ]
     },
     "execution_count": 42,
     "metadata": {},
     "output_type": "execute_result"
    }
   ],
   "source": [
    "D(*args, 'xyz') in s, D(*args, 'xyz') in s_, D(*args, 'xyz') in d_"
   ]
  },
  {
   "cell_type": "code",
   "execution_count": 43,
   "id": "f99053fd-f806-4697-8be3-f861be3a9e46",
   "metadata": {},
   "outputs": [
    {
     "data": {
      "text/plain": [
       "(True, True, True)"
      ]
     },
     "execution_count": 43,
     "metadata": {},
     "output_type": "execute_result"
    }
   ],
   "source": [
    "D_(*args, 'xyz') in s, D_(*args, 'xyz') in s_, D_(*args, 'xyz') in d_"
   ]
  },
  {
   "cell_type": "markdown",
   "id": "003fee13-fbe5-4641-90fa-798fbf7f12fa",
   "metadata": {},
   "source": [
    "### Comparing memory usage\n",
    "\n",
    "(Depends on the problem size)\n",
    "\n",
    "* `dataclass` with `__dict__` much better than `dataclass` with `__slots__`\n",
    "* `dataclass` with `__slots__` slightly better than named tuples\n",
    "* All named tuples equal"
   ]
  },
  {
   "cell_type": "code",
   "execution_count": 44,
   "id": "4200d1bf-6caa-4054-9be6-23d1f19c3b40",
   "metadata": {},
   "outputs": [
    {
     "name": "stdout",
     "output_type": "stream",
     "text": [
      "88\n",
      "88\n",
      "88\n",
      "48\n",
      "80\n"
     ]
    }
   ],
   "source": [
    "for item in z1, z2, z3, d1, d2:\n",
    "    print(sys.getsizeof(item))"
   ]
  },
  {
   "cell_type": "markdown",
   "id": "f487b767-b332-45b5-ab1d-929315dc908d",
   "metadata": {},
   "source": [
    "### Checking performance: membership testing for `set`\n",
    "\n",
    "* `collections.namedtuple` better than  `typing.NamedTuple`\n",
    "* `typing.NamedTuple` much better than dataclass with `__dict__`\n",
    "* `dataclass` with `__dict__` better than `dataclass` with `__slots__`"
   ]
  },
  {
   "cell_type": "code",
   "execution_count": 45,
   "id": "0232bcd0-e31b-487f-be26-2b5e619249d4",
   "metadata": {},
   "outputs": [
    {
     "name": "stdout",
     "output_type": "stream",
     "text": [
      "86.4 ns ± 0.0944 ns per loop (mean ± std. dev. of 7 runs, 10000000 loops each)\n"
     ]
    }
   ],
   "source": [
    "%%timeit\n",
    "z1 in s"
   ]
  },
  {
   "cell_type": "code",
   "execution_count": 46,
   "id": "00034bd8-4474-4323-889a-c359ff6306c6",
   "metadata": {},
   "outputs": [
    {
     "name": "stdout",
     "output_type": "stream",
     "text": [
      "110 ns ± 0.388 ns per loop (mean ± std. dev. of 7 runs, 10000000 loops each)\n"
     ]
    }
   ],
   "source": [
    "%%timeit\n",
    "z2 in s"
   ]
  },
  {
   "cell_type": "code",
   "execution_count": 47,
   "id": "a79aa839-e053-4dce-a6d8-975c5705ab28",
   "metadata": {},
   "outputs": [
    {
     "name": "stdout",
     "output_type": "stream",
     "text": [
      "109 ns ± 0.111 ns per loop (mean ± std. dev. of 7 runs, 10000000 loops each)\n"
     ]
    }
   ],
   "source": [
    "%%timeit\n",
    "z3 in s"
   ]
  },
  {
   "cell_type": "code",
   "execution_count": 48,
   "id": "521a1095-9753-4d22-b59c-0c743f3a70aa",
   "metadata": {},
   "outputs": [
    {
     "name": "stdout",
     "output_type": "stream",
     "text": [
      "508 ns ± 0.594 ns per loop (mean ± std. dev. of 7 runs, 1000000 loops each)\n"
     ]
    }
   ],
   "source": [
    "%%timeit\n",
    "d1 in s"
   ]
  },
  {
   "cell_type": "code",
   "execution_count": 49,
   "id": "5cfeead3-55bd-4a48-8145-e114e748eb30",
   "metadata": {},
   "outputs": [
    {
     "name": "stdout",
     "output_type": "stream",
     "text": [
      "773 ns ± 0.215 ns per loop (mean ± std. dev. of 7 runs, 1000000 loops each)\n"
     ]
    }
   ],
   "source": [
    "%%timeit\n",
    "d2 in s"
   ]
  },
  {
   "cell_type": "markdown",
   "id": "a6157a26-633a-4297-8b41-dcaa9b70d36e",
   "metadata": {},
   "source": [
    "### Checking performance: membership testing for `dict` keys\n",
    "\n",
    "* `collections.namedtuple` better than  `typing.NamedTuple`\n",
    "* `typing.NamedTuple` much better than dataclass with `__dict__`\n",
    "* `dataclass` with `__dict__` better than `dataclass` with `__slots__`"
   ]
  },
  {
   "cell_type": "code",
   "execution_count": 50,
   "id": "3d249dda-b687-46c9-95d1-b9a47c37487b",
   "metadata": {},
   "outputs": [
    {
     "name": "stdout",
     "output_type": "stream",
     "text": [
      "73.2 ns ± 0.0598 ns per loop (mean ± std. dev. of 7 runs, 10000000 loops each)\n"
     ]
    }
   ],
   "source": [
    "%%timeit\n",
    "z1 in d_"
   ]
  },
  {
   "cell_type": "code",
   "execution_count": 51,
   "id": "5de71d51-481b-415a-a2de-d3bfa69a580f",
   "metadata": {},
   "outputs": [
    {
     "name": "stdout",
     "output_type": "stream",
     "text": [
      "96.5 ns ± 0.0551 ns per loop (mean ± std. dev. of 7 runs, 10000000 loops each)\n"
     ]
    }
   ],
   "source": [
    "%%timeit\n",
    "z2 in d_"
   ]
  },
  {
   "cell_type": "code",
   "execution_count": 52,
   "id": "c6db05e1-1578-4ae7-91a5-393ddc89787a",
   "metadata": {},
   "outputs": [
    {
     "name": "stdout",
     "output_type": "stream",
     "text": [
      "94.3 ns ± 0.0112 ns per loop (mean ± std. dev. of 7 runs, 10000000 loops each)\n"
     ]
    }
   ],
   "source": [
    "%%timeit\n",
    "z3 in d_"
   ]
  },
  {
   "cell_type": "code",
   "execution_count": 53,
   "id": "bc633e6c-395c-4c2e-9f91-b33f14fab2b8",
   "metadata": {},
   "outputs": [
    {
     "name": "stdout",
     "output_type": "stream",
     "text": [
      "494 ns ± 0.164 ns per loop (mean ± std. dev. of 7 runs, 1000000 loops each)\n"
     ]
    }
   ],
   "source": [
    "%%timeit\n",
    "d1 in d_"
   ]
  },
  {
   "cell_type": "code",
   "execution_count": 54,
   "id": "0ae8bf19-0baa-4df0-a849-1e12123ba6ac",
   "metadata": {},
   "outputs": [
    {
     "name": "stdout",
     "output_type": "stream",
     "text": [
      "760 ns ± 0.481 ns per loop (mean ± std. dev. of 7 runs, 1000000 loops each)\n"
     ]
    }
   ],
   "source": [
    "%%timeit\n",
    "d2 in d_"
   ]
  },
  {
   "cell_type": "markdown",
   "id": "741ae5b5-988c-43e7-ba0c-850568d9d977",
   "metadata": {},
   "source": [
    "### Checking performance: values access for `dict` with indexing\n",
    "\n",
    "* `collections.namedtuple` better than  `typing.NamedTuple`\n",
    "* `typing.NamedTuple` much better than dataclass with `__dict__`\n",
    "* `dataclass` with `__dict__` better than `dataclass` with `__slots__`"
   ]
  },
  {
   "cell_type": "code",
   "execution_count": 55,
   "id": "99e62762-82fc-4b94-a487-05057c548653",
   "metadata": {},
   "outputs": [
    {
     "name": "stdout",
     "output_type": "stream",
     "text": [
      "74.2 ns ± 0.113 ns per loop (mean ± std. dev. of 7 runs, 10000000 loops each)\n"
     ]
    }
   ],
   "source": [
    "%%timeit\n",
    "r = d_[z1]"
   ]
  },
  {
   "cell_type": "code",
   "execution_count": 56,
   "id": "897a3fc3-0fa2-445e-851b-f02735fd5a81",
   "metadata": {},
   "outputs": [
    {
     "name": "stdout",
     "output_type": "stream",
     "text": [
      "101 ns ± 0.673 ns per loop (mean ± std. dev. of 7 runs, 10000000 loops each)\n"
     ]
    }
   ],
   "source": [
    "%%timeit\n",
    "r = d_[z2]"
   ]
  },
  {
   "cell_type": "code",
   "execution_count": 57,
   "id": "bc297dca-7bdf-4f75-9882-683edd8c8c49",
   "metadata": {},
   "outputs": [
    {
     "name": "stdout",
     "output_type": "stream",
     "text": [
      "100 ns ± 0.0973 ns per loop (mean ± std. dev. of 7 runs, 10000000 loops each)\n"
     ]
    }
   ],
   "source": [
    "%%timeit\n",
    "r = d_[z3]"
   ]
  },
  {
   "cell_type": "code",
   "execution_count": 58,
   "id": "489c3bc8-81b7-46fd-8098-826047c1caae",
   "metadata": {},
   "outputs": [
    {
     "name": "stdout",
     "output_type": "stream",
     "text": [
      "493 ns ± 0.642 ns per loop (mean ± std. dev. of 7 runs, 1000000 loops each)\n"
     ]
    }
   ],
   "source": [
    "%%timeit\n",
    "r = d_[d1]"
   ]
  },
  {
   "cell_type": "code",
   "execution_count": 59,
   "id": "17903245-a2ee-45f9-9fca-aba3071c749b",
   "metadata": {},
   "outputs": [
    {
     "name": "stdout",
     "output_type": "stream",
     "text": [
      "760 ns ± 0.267 ns per loop (mean ± std. dev. of 7 runs, 1000000 loops each)\n"
     ]
    }
   ],
   "source": [
    "%%timeit\n",
    "r = d_[d2]"
   ]
  },
  {
   "cell_type": "code",
   "execution_count": null,
   "id": "fd714d28-0a4d-41d0-aaae-c760fc94797c",
   "metadata": {},
   "outputs": [],
   "source": []
  }
 ],
 "metadata": {
  "kernelspec": {
   "display_name": "Python 3 (ms-sci)",
   "language": "python",
   "name": "ms-sci"
  },
  "language_info": {
   "codemirror_mode": {
    "name": "ipython",
    "version": 3
   },
   "file_extension": ".py",
   "mimetype": "text/x-python",
   "name": "python",
   "nbconvert_exporter": "python",
   "pygments_lexer": "ipython3",
   "version": "3.9.6"
  }
 },
 "nbformat": 4,
 "nbformat_minor": 5
}
